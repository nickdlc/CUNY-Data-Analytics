{
  "nbformat": 4,
  "nbformat_minor": 0,
  "metadata": {
    "colab": {
      "name": "Data-Analytics-Mini-Project02.ipynb",
      "provenance": [],
      "collapsed_sections": [],
      "toc_visible": true
    },
    "kernelspec": {
      "name": "python3",
      "display_name": "Python 3"
    }
  },
  "cells": [
    {
      "cell_type": "code",
      "metadata": {
        "id": "olzOLcHbpuCG"
      },
      "source": [
        "import numpy as np\r\n",
        "import pandas as pd\r\n",
        "import matplotlib.pyplot as plt\r\n",
        "import seaborn as sns\r\n",
        "%matplotlib inline\r\n",
        "\r\n",
        "# sns.set(style='whitegrid', font_scale=1.5)"
      ],
      "execution_count": 1,
      "outputs": []
    },
    {
      "cell_type": "markdown",
      "metadata": {
        "id": "wMCwhXQYeT4k"
      },
      "source": [
        "# Data Setup"
      ]
    },
    {
      "cell_type": "code",
      "metadata": {
        "id": "j2PbqauXd9sD"
      },
      "source": [
        "data = pd.read_csv('https://raw.githubusercontent.com/nytimes/covid-19-data/master/us-counties.csv')"
      ],
      "execution_count": 2,
      "outputs": []
    },
    {
      "cell_type": "code",
      "metadata": {
        "colab": {
          "base_uri": "https://localhost:8080/"
        },
        "id": "T3mA6oFxd_vy",
        "outputId": "2a58b09b-9eb9-4612-8c75-6776f93b22ee"
      },
      "source": [
        "data.info()"
      ],
      "execution_count": 3,
      "outputs": [
        {
          "output_type": "stream",
          "text": [
            "<class 'pandas.core.frame.DataFrame'>\n",
            "RangeIndex: 939988 entries, 0 to 939987\n",
            "Data columns (total 6 columns):\n",
            " #   Column  Non-Null Count   Dtype  \n",
            "---  ------  --------------   -----  \n",
            " 0   date    939988 non-null  object \n",
            " 1   county  939988 non-null  object \n",
            " 2   state   939988 non-null  object \n",
            " 3   fips    931216 non-null  float64\n",
            " 4   cases   939988 non-null  int64  \n",
            " 5   deaths  919901 non-null  float64\n",
            "dtypes: float64(2), int64(1), object(3)\n",
            "memory usage: 43.0+ MB\n"
          ],
          "name": "stdout"
        }
      ]
    },
    {
      "cell_type": "code",
      "metadata": {
        "colab": {
          "base_uri": "https://localhost:8080/",
          "height": 300
        },
        "id": "nzm3fgjheGJ5",
        "outputId": "dcc669a2-5272-4d2c-fb39-91438f7319c0"
      },
      "source": [
        "data.describe()"
      ],
      "execution_count": 4,
      "outputs": [
        {
          "output_type": "execute_result",
          "data": {
            "text/html": [
              "<div>\n",
              "<style scoped>\n",
              "    .dataframe tbody tr th:only-of-type {\n",
              "        vertical-align: middle;\n",
              "    }\n",
              "\n",
              "    .dataframe tbody tr th {\n",
              "        vertical-align: top;\n",
              "    }\n",
              "\n",
              "    .dataframe thead th {\n",
              "        text-align: right;\n",
              "    }\n",
              "</style>\n",
              "<table border=\"1\" class=\"dataframe\">\n",
              "  <thead>\n",
              "    <tr style=\"text-align: right;\">\n",
              "      <th></th>\n",
              "      <th>fips</th>\n",
              "      <th>cases</th>\n",
              "      <th>deaths</th>\n",
              "    </tr>\n",
              "  </thead>\n",
              "  <tbody>\n",
              "    <tr>\n",
              "      <th>count</th>\n",
              "      <td>931216.000000</td>\n",
              "      <td>9.399880e+05</td>\n",
              "      <td>919901.000000</td>\n",
              "    </tr>\n",
              "    <tr>\n",
              "      <th>mean</th>\n",
              "      <td>31272.924206</td>\n",
              "      <td>2.238276e+03</td>\n",
              "      <td>57.326599</td>\n",
              "    </tr>\n",
              "    <tr>\n",
              "      <th>std</th>\n",
              "      <td>16300.883885</td>\n",
              "      <td>1.174562e+04</td>\n",
              "      <td>461.961465</td>\n",
              "    </tr>\n",
              "    <tr>\n",
              "      <th>min</th>\n",
              "      <td>1001.000000</td>\n",
              "      <td>0.000000e+00</td>\n",
              "      <td>0.000000</td>\n",
              "    </tr>\n",
              "    <tr>\n",
              "      <th>25%</th>\n",
              "      <td>19001.000000</td>\n",
              "      <td>4.100000e+01</td>\n",
              "      <td>0.000000</td>\n",
              "    </tr>\n",
              "    <tr>\n",
              "      <th>50%</th>\n",
              "      <td>29217.000000</td>\n",
              "      <td>2.670000e+02</td>\n",
              "      <td>5.000000</td>\n",
              "    </tr>\n",
              "    <tr>\n",
              "      <th>75%</th>\n",
              "      <td>46101.000000</td>\n",
              "      <td>1.151000e+03</td>\n",
              "      <td>24.000000</td>\n",
              "    </tr>\n",
              "    <tr>\n",
              "      <th>max</th>\n",
              "      <td>78030.000000</td>\n",
              "      <td>1.015063e+06</td>\n",
              "      <td>26036.000000</td>\n",
              "    </tr>\n",
              "  </tbody>\n",
              "</table>\n",
              "</div>"
            ],
            "text/plain": [
              "                fips         cases         deaths\n",
              "count  931216.000000  9.399880e+05  919901.000000\n",
              "mean    31272.924206  2.238276e+03      57.326599\n",
              "std     16300.883885  1.174562e+04     461.961465\n",
              "min      1001.000000  0.000000e+00       0.000000\n",
              "25%     19001.000000  4.100000e+01       0.000000\n",
              "50%     29217.000000  2.670000e+02       5.000000\n",
              "75%     46101.000000  1.151000e+03      24.000000\n",
              "max     78030.000000  1.015063e+06   26036.000000"
            ]
          },
          "metadata": {
            "tags": []
          },
          "execution_count": 4
        }
      ]
    },
    {
      "cell_type": "code",
      "metadata": {
        "colab": {
          "base_uri": "https://localhost:8080/",
          "height": 206
        },
        "id": "TRR8nDUpeHQN",
        "outputId": "ea80b35f-6ae3-4484-b879-d66607483e70"
      },
      "source": [
        "data.head()"
      ],
      "execution_count": 5,
      "outputs": [
        {
          "output_type": "execute_result",
          "data": {
            "text/html": [
              "<div>\n",
              "<style scoped>\n",
              "    .dataframe tbody tr th:only-of-type {\n",
              "        vertical-align: middle;\n",
              "    }\n",
              "\n",
              "    .dataframe tbody tr th {\n",
              "        vertical-align: top;\n",
              "    }\n",
              "\n",
              "    .dataframe thead th {\n",
              "        text-align: right;\n",
              "    }\n",
              "</style>\n",
              "<table border=\"1\" class=\"dataframe\">\n",
              "  <thead>\n",
              "    <tr style=\"text-align: right;\">\n",
              "      <th></th>\n",
              "      <th>date</th>\n",
              "      <th>county</th>\n",
              "      <th>state</th>\n",
              "      <th>fips</th>\n",
              "      <th>cases</th>\n",
              "      <th>deaths</th>\n",
              "    </tr>\n",
              "  </thead>\n",
              "  <tbody>\n",
              "    <tr>\n",
              "      <th>0</th>\n",
              "      <td>2020-01-21</td>\n",
              "      <td>Snohomish</td>\n",
              "      <td>Washington</td>\n",
              "      <td>53061.0</td>\n",
              "      <td>1</td>\n",
              "      <td>0.0</td>\n",
              "    </tr>\n",
              "    <tr>\n",
              "      <th>1</th>\n",
              "      <td>2020-01-22</td>\n",
              "      <td>Snohomish</td>\n",
              "      <td>Washington</td>\n",
              "      <td>53061.0</td>\n",
              "      <td>1</td>\n",
              "      <td>0.0</td>\n",
              "    </tr>\n",
              "    <tr>\n",
              "      <th>2</th>\n",
              "      <td>2020-01-23</td>\n",
              "      <td>Snohomish</td>\n",
              "      <td>Washington</td>\n",
              "      <td>53061.0</td>\n",
              "      <td>1</td>\n",
              "      <td>0.0</td>\n",
              "    </tr>\n",
              "    <tr>\n",
              "      <th>3</th>\n",
              "      <td>2020-01-24</td>\n",
              "      <td>Cook</td>\n",
              "      <td>Illinois</td>\n",
              "      <td>17031.0</td>\n",
              "      <td>1</td>\n",
              "      <td>0.0</td>\n",
              "    </tr>\n",
              "    <tr>\n",
              "      <th>4</th>\n",
              "      <td>2020-01-24</td>\n",
              "      <td>Snohomish</td>\n",
              "      <td>Washington</td>\n",
              "      <td>53061.0</td>\n",
              "      <td>1</td>\n",
              "      <td>0.0</td>\n",
              "    </tr>\n",
              "  </tbody>\n",
              "</table>\n",
              "</div>"
            ],
            "text/plain": [
              "         date     county       state     fips  cases  deaths\n",
              "0  2020-01-21  Snohomish  Washington  53061.0      1     0.0\n",
              "1  2020-01-22  Snohomish  Washington  53061.0      1     0.0\n",
              "2  2020-01-23  Snohomish  Washington  53061.0      1     0.0\n",
              "3  2020-01-24       Cook    Illinois  17031.0      1     0.0\n",
              "4  2020-01-24  Snohomish  Washington  53061.0      1     0.0"
            ]
          },
          "metadata": {
            "tags": []
          },
          "execution_count": 5
        }
      ]
    },
    {
      "cell_type": "code",
      "metadata": {
        "colab": {
          "base_uri": "https://localhost:8080/",
          "height": 206
        },
        "id": "7FfbTeN5eIkr",
        "outputId": "4407284b-9ad0-49bc-cebf-acb07acf0c36"
      },
      "source": [
        "data.tail()"
      ],
      "execution_count": 6,
      "outputs": [
        {
          "output_type": "execute_result",
          "data": {
            "text/html": [
              "<div>\n",
              "<style scoped>\n",
              "    .dataframe tbody tr th:only-of-type {\n",
              "        vertical-align: middle;\n",
              "    }\n",
              "\n",
              "    .dataframe tbody tr th {\n",
              "        vertical-align: top;\n",
              "    }\n",
              "\n",
              "    .dataframe thead th {\n",
              "        text-align: right;\n",
              "    }\n",
              "</style>\n",
              "<table border=\"1\" class=\"dataframe\">\n",
              "  <thead>\n",
              "    <tr style=\"text-align: right;\">\n",
              "      <th></th>\n",
              "      <th>date</th>\n",
              "      <th>county</th>\n",
              "      <th>state</th>\n",
              "      <th>fips</th>\n",
              "      <th>cases</th>\n",
              "      <th>deaths</th>\n",
              "    </tr>\n",
              "  </thead>\n",
              "  <tbody>\n",
              "    <tr>\n",
              "      <th>939983</th>\n",
              "      <td>2021-01-17</td>\n",
              "      <td>Sweetwater</td>\n",
              "      <td>Wyoming</td>\n",
              "      <td>56037.0</td>\n",
              "      <td>3290</td>\n",
              "      <td>26.0</td>\n",
              "    </tr>\n",
              "    <tr>\n",
              "      <th>939984</th>\n",
              "      <td>2021-01-17</td>\n",
              "      <td>Teton</td>\n",
              "      <td>Wyoming</td>\n",
              "      <td>56039.0</td>\n",
              "      <td>2685</td>\n",
              "      <td>4.0</td>\n",
              "    </tr>\n",
              "    <tr>\n",
              "      <th>939985</th>\n",
              "      <td>2021-01-17</td>\n",
              "      <td>Uinta</td>\n",
              "      <td>Wyoming</td>\n",
              "      <td>56041.0</td>\n",
              "      <td>1817</td>\n",
              "      <td>9.0</td>\n",
              "    </tr>\n",
              "    <tr>\n",
              "      <th>939986</th>\n",
              "      <td>2021-01-17</td>\n",
              "      <td>Washakie</td>\n",
              "      <td>Wyoming</td>\n",
              "      <td>56043.0</td>\n",
              "      <td>842</td>\n",
              "      <td>23.0</td>\n",
              "    </tr>\n",
              "    <tr>\n",
              "      <th>939987</th>\n",
              "      <td>2021-01-17</td>\n",
              "      <td>Weston</td>\n",
              "      <td>Wyoming</td>\n",
              "      <td>56045.0</td>\n",
              "      <td>602</td>\n",
              "      <td>4.0</td>\n",
              "    </tr>\n",
              "  </tbody>\n",
              "</table>\n",
              "</div>"
            ],
            "text/plain": [
              "              date      county    state     fips  cases  deaths\n",
              "939983  2021-01-17  Sweetwater  Wyoming  56037.0   3290    26.0\n",
              "939984  2021-01-17       Teton  Wyoming  56039.0   2685     4.0\n",
              "939985  2021-01-17       Uinta  Wyoming  56041.0   1817     9.0\n",
              "939986  2021-01-17    Washakie  Wyoming  56043.0    842    23.0\n",
              "939987  2021-01-17      Weston  Wyoming  56045.0    602     4.0"
            ]
          },
          "metadata": {
            "tags": []
          },
          "execution_count": 6
        }
      ]
    },
    {
      "cell_type": "markdown",
      "metadata": {
        "id": "p2W5KV8lDLrf"
      },
      "source": [
        "# Outline of What Could be Done\r\n",
        "\r\n",
        "- Convert the date to datetime (if it isn't already) then add 3 columns - one each for month, day, and year.\r\n",
        "- Heatmap of states and/or counties?\r\n",
        "- countplot/scatterplot (or other) of cases and deaths\r\n",
        "- scatterplot of cases and deaths based on fips\r\n",
        "- animation with scatterplot/heatmap using fips to show growth over time\r\n",
        "\r\n",
        "Note:\r\n",
        "\r\n",
        "State and county files contain FIPS codes, a standard geographic identifier, to make it easier for an analyst to combine this data with other data sets like a map file or population data."
      ]
    },
    {
      "cell_type": "markdown",
      "metadata": {
        "id": "O-F3PZyotS99"
      },
      "source": [
        "# Exploratory Data Analysis"
      ]
    },
    {
      "cell_type": "markdown",
      "metadata": {
        "id": "3OIOd7JOgqFo"
      },
      "source": [
        "## Converting ```date``` Column from ```string``` to ```datetime```"
      ]
    },
    {
      "cell_type": "code",
      "metadata": {
        "colab": {
          "base_uri": "https://localhost:8080/"
        },
        "id": "rNDlnZbQWzXz",
        "outputId": "4855d1b7-70b9-4ba1-cd16-c212e487d407"
      },
      "source": [
        "# Checking the data type of elements in the date column\r\n",
        "\r\n",
        "type(data['date'].iloc[0])"
      ],
      "execution_count": 7,
      "outputs": [
        {
          "output_type": "execute_result",
          "data": {
            "text/plain": [
              "str"
            ]
          },
          "metadata": {
            "tags": []
          },
          "execution_count": 7
        }
      ]
    },
    {
      "cell_type": "code",
      "metadata": {
        "id": "2NwPFoVDhuDH"
      },
      "source": [
        "# Converting the elements in the date column from str to datetime\r\n",
        "\r\n",
        "data['date'] = pd.to_datetime(data['date'])"
      ],
      "execution_count": 8,
      "outputs": []
    },
    {
      "cell_type": "code",
      "metadata": {
        "id": "D4HtEfV2h-4p"
      },
      "source": [
        "# Creating 5 new columns based on month, month of year, day, day of month, and year\r\n",
        "\r\n",
        "time = data['date'].iloc[0]\r\n",
        "\r\n",
        "data['month'] = data['date'].apply(lambda time: time.month_name())\r\n",
        "data['month of year'] = data['date'].apply(lambda time: time.month)\r\n",
        "data['day'] = data['date'].apply(lambda time: time.day_name())\r\n",
        "data['day of month'] = data['date'].apply(lambda time: time.day)\r\n",
        "data['year'] = data['date'].apply(lambda time: time.year)"
      ],
      "execution_count": 9,
      "outputs": []
    },
    {
      "cell_type": "code",
      "metadata": {
        "colab": {
          "base_uri": "https://localhost:8080/",
          "height": 206
        },
        "id": "wFTME0ROjNYY",
        "outputId": "6e73a031-8114-4977-a084-77fe25189672"
      },
      "source": [
        "data.head()"
      ],
      "execution_count": 10,
      "outputs": [
        {
          "output_type": "execute_result",
          "data": {
            "text/html": [
              "<div>\n",
              "<style scoped>\n",
              "    .dataframe tbody tr th:only-of-type {\n",
              "        vertical-align: middle;\n",
              "    }\n",
              "\n",
              "    .dataframe tbody tr th {\n",
              "        vertical-align: top;\n",
              "    }\n",
              "\n",
              "    .dataframe thead th {\n",
              "        text-align: right;\n",
              "    }\n",
              "</style>\n",
              "<table border=\"1\" class=\"dataframe\">\n",
              "  <thead>\n",
              "    <tr style=\"text-align: right;\">\n",
              "      <th></th>\n",
              "      <th>date</th>\n",
              "      <th>county</th>\n",
              "      <th>state</th>\n",
              "      <th>fips</th>\n",
              "      <th>cases</th>\n",
              "      <th>deaths</th>\n",
              "      <th>month</th>\n",
              "      <th>month of year</th>\n",
              "      <th>day</th>\n",
              "      <th>day of month</th>\n",
              "      <th>year</th>\n",
              "    </tr>\n",
              "  </thead>\n",
              "  <tbody>\n",
              "    <tr>\n",
              "      <th>0</th>\n",
              "      <td>2020-01-21</td>\n",
              "      <td>Snohomish</td>\n",
              "      <td>Washington</td>\n",
              "      <td>53061.0</td>\n",
              "      <td>1</td>\n",
              "      <td>0.0</td>\n",
              "      <td>January</td>\n",
              "      <td>1</td>\n",
              "      <td>Tuesday</td>\n",
              "      <td>21</td>\n",
              "      <td>2020</td>\n",
              "    </tr>\n",
              "    <tr>\n",
              "      <th>1</th>\n",
              "      <td>2020-01-22</td>\n",
              "      <td>Snohomish</td>\n",
              "      <td>Washington</td>\n",
              "      <td>53061.0</td>\n",
              "      <td>1</td>\n",
              "      <td>0.0</td>\n",
              "      <td>January</td>\n",
              "      <td>1</td>\n",
              "      <td>Wednesday</td>\n",
              "      <td>22</td>\n",
              "      <td>2020</td>\n",
              "    </tr>\n",
              "    <tr>\n",
              "      <th>2</th>\n",
              "      <td>2020-01-23</td>\n",
              "      <td>Snohomish</td>\n",
              "      <td>Washington</td>\n",
              "      <td>53061.0</td>\n",
              "      <td>1</td>\n",
              "      <td>0.0</td>\n",
              "      <td>January</td>\n",
              "      <td>1</td>\n",
              "      <td>Thursday</td>\n",
              "      <td>23</td>\n",
              "      <td>2020</td>\n",
              "    </tr>\n",
              "    <tr>\n",
              "      <th>3</th>\n",
              "      <td>2020-01-24</td>\n",
              "      <td>Cook</td>\n",
              "      <td>Illinois</td>\n",
              "      <td>17031.0</td>\n",
              "      <td>1</td>\n",
              "      <td>0.0</td>\n",
              "      <td>January</td>\n",
              "      <td>1</td>\n",
              "      <td>Friday</td>\n",
              "      <td>24</td>\n",
              "      <td>2020</td>\n",
              "    </tr>\n",
              "    <tr>\n",
              "      <th>4</th>\n",
              "      <td>2020-01-24</td>\n",
              "      <td>Snohomish</td>\n",
              "      <td>Washington</td>\n",
              "      <td>53061.0</td>\n",
              "      <td>1</td>\n",
              "      <td>0.0</td>\n",
              "      <td>January</td>\n",
              "      <td>1</td>\n",
              "      <td>Friday</td>\n",
              "      <td>24</td>\n",
              "      <td>2020</td>\n",
              "    </tr>\n",
              "  </tbody>\n",
              "</table>\n",
              "</div>"
            ],
            "text/plain": [
              "        date     county       state  ...        day  day of month  year\n",
              "0 2020-01-21  Snohomish  Washington  ...    Tuesday            21  2020\n",
              "1 2020-01-22  Snohomish  Washington  ...  Wednesday            22  2020\n",
              "2 2020-01-23  Snohomish  Washington  ...   Thursday            23  2020\n",
              "3 2020-01-24       Cook    Illinois  ...     Friday            24  2020\n",
              "4 2020-01-24  Snohomish  Washington  ...     Friday            24  2020\n",
              "\n",
              "[5 rows x 11 columns]"
            ]
          },
          "metadata": {
            "tags": []
          },
          "execution_count": 10
        }
      ]
    },
    {
      "cell_type": "markdown",
      "metadata": {
        "id": "XhI4yUyflHI9"
      },
      "source": [
        "## Checking for Null Values"
      ]
    },
    {
      "cell_type": "code",
      "metadata": {
        "colab": {
          "base_uri": "https://localhost:8080/"
        },
        "id": "ATTwrxZFjSsA",
        "outputId": "677497dd-61ef-4d2b-b6af-0791f3275d6b"
      },
      "source": [
        "data.isnull().sum()"
      ],
      "execution_count": 11,
      "outputs": [
        {
          "output_type": "execute_result",
          "data": {
            "text/plain": [
              "date                 0\n",
              "county               0\n",
              "state                0\n",
              "fips              8772\n",
              "cases                0\n",
              "deaths           20087\n",
              "month                0\n",
              "month of year        0\n",
              "day                  0\n",
              "day of month         0\n",
              "year                 0\n",
              "dtype: int64"
            ]
          },
          "metadata": {
            "tags": []
          },
          "execution_count": 11
        }
      ]
    },
    {
      "cell_type": "markdown",
      "metadata": {
        "id": "86amqpAroBa_"
      },
      "source": [
        "This tells us that there are 8772 entries where the FIPS is null and 20,087 entries where the number of deaths isn't recorded"
      ]
    },
    {
      "cell_type": "code",
      "metadata": {
        "colab": {
          "base_uri": "https://localhost:8080/",
          "height": 394
        },
        "id": "nkKxpZd2lMPd",
        "outputId": "9cca0cf4-320d-4cd9-bf33-93914ab26c5c"
      },
      "source": [
        "# Gets the total number of rows with missing values for a given column.\r\n",
        "total = data.isnull().sum().sort_values(ascending=False)\r\n",
        "\r\n",
        "# Gets the percentage of missing data in a column.\r\n",
        "percentage = (data.isnull().sum()/data.isnull().count()).sort_values(ascending=False)\r\n",
        "\r\n",
        "# Concatenates the total and percentage DataFrame objects to create a new table.\r\n",
        "# The total and percentage values are set to the columns with 1 being passed in\r\n",
        "# for the axis parameter. The keys in the table are then set to the strings\r\n",
        "# 'total' and 'percentage'.\r\n",
        "missing_data = pd.concat([total, percentage], axis=1, keys=['total', 'percentage'])\r\n",
        "\r\n",
        "missing_data.head(20)"
      ],
      "execution_count": 12,
      "outputs": [
        {
          "output_type": "execute_result",
          "data": {
            "text/html": [
              "<div>\n",
              "<style scoped>\n",
              "    .dataframe tbody tr th:only-of-type {\n",
              "        vertical-align: middle;\n",
              "    }\n",
              "\n",
              "    .dataframe tbody tr th {\n",
              "        vertical-align: top;\n",
              "    }\n",
              "\n",
              "    .dataframe thead th {\n",
              "        text-align: right;\n",
              "    }\n",
              "</style>\n",
              "<table border=\"1\" class=\"dataframe\">\n",
              "  <thead>\n",
              "    <tr style=\"text-align: right;\">\n",
              "      <th></th>\n",
              "      <th>total</th>\n",
              "      <th>percentage</th>\n",
              "    </tr>\n",
              "  </thead>\n",
              "  <tbody>\n",
              "    <tr>\n",
              "      <th>deaths</th>\n",
              "      <td>20087</td>\n",
              "      <td>0.021369</td>\n",
              "    </tr>\n",
              "    <tr>\n",
              "      <th>fips</th>\n",
              "      <td>8772</td>\n",
              "      <td>0.009332</td>\n",
              "    </tr>\n",
              "    <tr>\n",
              "      <th>year</th>\n",
              "      <td>0</td>\n",
              "      <td>0.000000</td>\n",
              "    </tr>\n",
              "    <tr>\n",
              "      <th>day of month</th>\n",
              "      <td>0</td>\n",
              "      <td>0.000000</td>\n",
              "    </tr>\n",
              "    <tr>\n",
              "      <th>day</th>\n",
              "      <td>0</td>\n",
              "      <td>0.000000</td>\n",
              "    </tr>\n",
              "    <tr>\n",
              "      <th>month of year</th>\n",
              "      <td>0</td>\n",
              "      <td>0.000000</td>\n",
              "    </tr>\n",
              "    <tr>\n",
              "      <th>month</th>\n",
              "      <td>0</td>\n",
              "      <td>0.000000</td>\n",
              "    </tr>\n",
              "    <tr>\n",
              "      <th>cases</th>\n",
              "      <td>0</td>\n",
              "      <td>0.000000</td>\n",
              "    </tr>\n",
              "    <tr>\n",
              "      <th>state</th>\n",
              "      <td>0</td>\n",
              "      <td>0.000000</td>\n",
              "    </tr>\n",
              "    <tr>\n",
              "      <th>county</th>\n",
              "      <td>0</td>\n",
              "      <td>0.000000</td>\n",
              "    </tr>\n",
              "    <tr>\n",
              "      <th>date</th>\n",
              "      <td>0</td>\n",
              "      <td>0.000000</td>\n",
              "    </tr>\n",
              "  </tbody>\n",
              "</table>\n",
              "</div>"
            ],
            "text/plain": [
              "               total  percentage\n",
              "deaths         20087    0.021369\n",
              "fips            8772    0.009332\n",
              "year               0    0.000000\n",
              "day of month       0    0.000000\n",
              "day                0    0.000000\n",
              "month of year      0    0.000000\n",
              "month              0    0.000000\n",
              "cases              0    0.000000\n",
              "state              0    0.000000\n",
              "county             0    0.000000\n",
              "date               0    0.000000"
            ]
          },
          "metadata": {
            "tags": []
          },
          "execution_count": 12
        }
      ]
    },
    {
      "cell_type": "code",
      "metadata": {
        "colab": {
          "base_uri": "https://localhost:8080/",
          "height": 424
        },
        "id": "BzE0uzNSsgv3",
        "outputId": "f8d02ada-671e-4aa3-f7af-0fa535b1ccb6"
      },
      "source": [
        "data[data['deaths'].isnull()]"
      ],
      "execution_count": 13,
      "outputs": [
        {
          "output_type": "execute_result",
          "data": {
            "text/html": [
              "<div>\n",
              "<style scoped>\n",
              "    .dataframe tbody tr th:only-of-type {\n",
              "        vertical-align: middle;\n",
              "    }\n",
              "\n",
              "    .dataframe tbody tr th {\n",
              "        vertical-align: top;\n",
              "    }\n",
              "\n",
              "    .dataframe thead th {\n",
              "        text-align: right;\n",
              "    }\n",
              "</style>\n",
              "<table border=\"1\" class=\"dataframe\">\n",
              "  <thead>\n",
              "    <tr style=\"text-align: right;\">\n",
              "      <th></th>\n",
              "      <th>date</th>\n",
              "      <th>county</th>\n",
              "      <th>state</th>\n",
              "      <th>fips</th>\n",
              "      <th>cases</th>\n",
              "      <th>deaths</th>\n",
              "      <th>month</th>\n",
              "      <th>month of year</th>\n",
              "      <th>day</th>\n",
              "      <th>day of month</th>\n",
              "      <th>year</th>\n",
              "    </tr>\n",
              "  </thead>\n",
              "  <tbody>\n",
              "    <tr>\n",
              "      <th>117486</th>\n",
              "      <td>2020-05-05</td>\n",
              "      <td>Adjuntas</td>\n",
              "      <td>Puerto Rico</td>\n",
              "      <td>72001.0</td>\n",
              "      <td>3</td>\n",
              "      <td>NaN</td>\n",
              "      <td>May</td>\n",
              "      <td>5</td>\n",
              "      <td>Tuesday</td>\n",
              "      <td>5</td>\n",
              "      <td>2020</td>\n",
              "    </tr>\n",
              "    <tr>\n",
              "      <th>117487</th>\n",
              "      <td>2020-05-05</td>\n",
              "      <td>Aguada</td>\n",
              "      <td>Puerto Rico</td>\n",
              "      <td>72003.0</td>\n",
              "      <td>7</td>\n",
              "      <td>NaN</td>\n",
              "      <td>May</td>\n",
              "      <td>5</td>\n",
              "      <td>Tuesday</td>\n",
              "      <td>5</td>\n",
              "      <td>2020</td>\n",
              "    </tr>\n",
              "    <tr>\n",
              "      <th>117488</th>\n",
              "      <td>2020-05-05</td>\n",
              "      <td>Aguadilla</td>\n",
              "      <td>Puerto Rico</td>\n",
              "      <td>72005.0</td>\n",
              "      <td>11</td>\n",
              "      <td>NaN</td>\n",
              "      <td>May</td>\n",
              "      <td>5</td>\n",
              "      <td>Tuesday</td>\n",
              "      <td>5</td>\n",
              "      <td>2020</td>\n",
              "    </tr>\n",
              "    <tr>\n",
              "      <th>117489</th>\n",
              "      <td>2020-05-05</td>\n",
              "      <td>Aguas Buenas</td>\n",
              "      <td>Puerto Rico</td>\n",
              "      <td>72007.0</td>\n",
              "      <td>22</td>\n",
              "      <td>NaN</td>\n",
              "      <td>May</td>\n",
              "      <td>5</td>\n",
              "      <td>Tuesday</td>\n",
              "      <td>5</td>\n",
              "      <td>2020</td>\n",
              "    </tr>\n",
              "    <tr>\n",
              "      <th>117490</th>\n",
              "      <td>2020-05-05</td>\n",
              "      <td>Aibonito</td>\n",
              "      <td>Puerto Rico</td>\n",
              "      <td>72009.0</td>\n",
              "      <td>13</td>\n",
              "      <td>NaN</td>\n",
              "      <td>May</td>\n",
              "      <td>5</td>\n",
              "      <td>Tuesday</td>\n",
              "      <td>5</td>\n",
              "      <td>2020</td>\n",
              "    </tr>\n",
              "    <tr>\n",
              "      <th>...</th>\n",
              "      <td>...</td>\n",
              "      <td>...</td>\n",
              "      <td>...</td>\n",
              "      <td>...</td>\n",
              "      <td>...</td>\n",
              "      <td>...</td>\n",
              "      <td>...</td>\n",
              "      <td>...</td>\n",
              "      <td>...</td>\n",
              "      <td>...</td>\n",
              "      <td>...</td>\n",
              "    </tr>\n",
              "    <tr>\n",
              "      <th>939145</th>\n",
              "      <td>2021-01-17</td>\n",
              "      <td>Vega Baja</td>\n",
              "      <td>Puerto Rico</td>\n",
              "      <td>72145.0</td>\n",
              "      <td>2460</td>\n",
              "      <td>NaN</td>\n",
              "      <td>January</td>\n",
              "      <td>1</td>\n",
              "      <td>Sunday</td>\n",
              "      <td>17</td>\n",
              "      <td>2021</td>\n",
              "    </tr>\n",
              "    <tr>\n",
              "      <th>939146</th>\n",
              "      <td>2021-01-17</td>\n",
              "      <td>Vieques</td>\n",
              "      <td>Puerto Rico</td>\n",
              "      <td>72147.0</td>\n",
              "      <td>193</td>\n",
              "      <td>NaN</td>\n",
              "      <td>January</td>\n",
              "      <td>1</td>\n",
              "      <td>Sunday</td>\n",
              "      <td>17</td>\n",
              "      <td>2021</td>\n",
              "    </tr>\n",
              "    <tr>\n",
              "      <th>939147</th>\n",
              "      <td>2021-01-17</td>\n",
              "      <td>Villalba</td>\n",
              "      <td>Puerto Rico</td>\n",
              "      <td>72149.0</td>\n",
              "      <td>657</td>\n",
              "      <td>NaN</td>\n",
              "      <td>January</td>\n",
              "      <td>1</td>\n",
              "      <td>Sunday</td>\n",
              "      <td>17</td>\n",
              "      <td>2021</td>\n",
              "    </tr>\n",
              "    <tr>\n",
              "      <th>939148</th>\n",
              "      <td>2021-01-17</td>\n",
              "      <td>Yabucoa</td>\n",
              "      <td>Puerto Rico</td>\n",
              "      <td>72151.0</td>\n",
              "      <td>899</td>\n",
              "      <td>NaN</td>\n",
              "      <td>January</td>\n",
              "      <td>1</td>\n",
              "      <td>Sunday</td>\n",
              "      <td>17</td>\n",
              "      <td>2021</td>\n",
              "    </tr>\n",
              "    <tr>\n",
              "      <th>939149</th>\n",
              "      <td>2021-01-17</td>\n",
              "      <td>Yauco</td>\n",
              "      <td>Puerto Rico</td>\n",
              "      <td>72153.0</td>\n",
              "      <td>932</td>\n",
              "      <td>NaN</td>\n",
              "      <td>January</td>\n",
              "      <td>1</td>\n",
              "      <td>Sunday</td>\n",
              "      <td>17</td>\n",
              "      <td>2021</td>\n",
              "    </tr>\n",
              "  </tbody>\n",
              "</table>\n",
              "<p>20087 rows × 11 columns</p>\n",
              "</div>"
            ],
            "text/plain": [
              "             date        county        state  ...      day  day of month  year\n",
              "117486 2020-05-05      Adjuntas  Puerto Rico  ...  Tuesday             5  2020\n",
              "117487 2020-05-05        Aguada  Puerto Rico  ...  Tuesday             5  2020\n",
              "117488 2020-05-05     Aguadilla  Puerto Rico  ...  Tuesday             5  2020\n",
              "117489 2020-05-05  Aguas Buenas  Puerto Rico  ...  Tuesday             5  2020\n",
              "117490 2020-05-05      Aibonito  Puerto Rico  ...  Tuesday             5  2020\n",
              "...           ...           ...          ...  ...      ...           ...   ...\n",
              "939145 2021-01-17     Vega Baja  Puerto Rico  ...   Sunday            17  2021\n",
              "939146 2021-01-17       Vieques  Puerto Rico  ...   Sunday            17  2021\n",
              "939147 2021-01-17      Villalba  Puerto Rico  ...   Sunday            17  2021\n",
              "939148 2021-01-17       Yabucoa  Puerto Rico  ...   Sunday            17  2021\n",
              "939149 2021-01-17         Yauco  Puerto Rico  ...   Sunday            17  2021\n",
              "\n",
              "[20087 rows x 11 columns]"
            ]
          },
          "metadata": {
            "tags": []
          },
          "execution_count": 13
        }
      ]
    },
    {
      "cell_type": "code",
      "metadata": {
        "colab": {
          "base_uri": "https://localhost:8080/",
          "height": 424
        },
        "id": "kHRpUTPVxW43",
        "outputId": "b7ba6677-f501-465c-c531-21ddd8473145"
      },
      "source": [
        "data[data['fips'].isnull()]"
      ],
      "execution_count": 14,
      "outputs": [
        {
          "output_type": "execute_result",
          "data": {
            "text/html": [
              "<div>\n",
              "<style scoped>\n",
              "    .dataframe tbody tr th:only-of-type {\n",
              "        vertical-align: middle;\n",
              "    }\n",
              "\n",
              "    .dataframe tbody tr th {\n",
              "        vertical-align: top;\n",
              "    }\n",
              "\n",
              "    .dataframe thead th {\n",
              "        text-align: right;\n",
              "    }\n",
              "</style>\n",
              "<table border=\"1\" class=\"dataframe\">\n",
              "  <thead>\n",
              "    <tr style=\"text-align: right;\">\n",
              "      <th></th>\n",
              "      <th>date</th>\n",
              "      <th>county</th>\n",
              "      <th>state</th>\n",
              "      <th>fips</th>\n",
              "      <th>cases</th>\n",
              "      <th>deaths</th>\n",
              "      <th>month</th>\n",
              "      <th>month of year</th>\n",
              "      <th>day</th>\n",
              "      <th>day of month</th>\n",
              "      <th>year</th>\n",
              "    </tr>\n",
              "  </thead>\n",
              "  <tbody>\n",
              "    <tr>\n",
              "      <th>416</th>\n",
              "      <td>2020-03-01</td>\n",
              "      <td>New York City</td>\n",
              "      <td>New York</td>\n",
              "      <td>NaN</td>\n",
              "      <td>1</td>\n",
              "      <td>0.0</td>\n",
              "      <td>March</td>\n",
              "      <td>3</td>\n",
              "      <td>Sunday</td>\n",
              "      <td>1</td>\n",
              "      <td>2020</td>\n",
              "    </tr>\n",
              "    <tr>\n",
              "      <th>418</th>\n",
              "      <td>2020-03-01</td>\n",
              "      <td>Unknown</td>\n",
              "      <td>Rhode Island</td>\n",
              "      <td>NaN</td>\n",
              "      <td>2</td>\n",
              "      <td>0.0</td>\n",
              "      <td>March</td>\n",
              "      <td>3</td>\n",
              "      <td>Sunday</td>\n",
              "      <td>1</td>\n",
              "      <td>2020</td>\n",
              "    </tr>\n",
              "    <tr>\n",
              "      <th>448</th>\n",
              "      <td>2020-03-02</td>\n",
              "      <td>New York City</td>\n",
              "      <td>New York</td>\n",
              "      <td>NaN</td>\n",
              "      <td>1</td>\n",
              "      <td>0.0</td>\n",
              "      <td>March</td>\n",
              "      <td>3</td>\n",
              "      <td>Monday</td>\n",
              "      <td>2</td>\n",
              "      <td>2020</td>\n",
              "    </tr>\n",
              "    <tr>\n",
              "      <th>450</th>\n",
              "      <td>2020-03-02</td>\n",
              "      <td>Unknown</td>\n",
              "      <td>Rhode Island</td>\n",
              "      <td>NaN</td>\n",
              "      <td>2</td>\n",
              "      <td>0.0</td>\n",
              "      <td>March</td>\n",
              "      <td>3</td>\n",
              "      <td>Monday</td>\n",
              "      <td>2</td>\n",
              "      <td>2020</td>\n",
              "    </tr>\n",
              "    <tr>\n",
              "      <th>482</th>\n",
              "      <td>2020-03-03</td>\n",
              "      <td>New York City</td>\n",
              "      <td>New York</td>\n",
              "      <td>NaN</td>\n",
              "      <td>2</td>\n",
              "      <td>0.0</td>\n",
              "      <td>March</td>\n",
              "      <td>3</td>\n",
              "      <td>Tuesday</td>\n",
              "      <td>3</td>\n",
              "      <td>2020</td>\n",
              "    </tr>\n",
              "    <tr>\n",
              "      <th>...</th>\n",
              "      <td>...</td>\n",
              "      <td>...</td>\n",
              "      <td>...</td>\n",
              "      <td>...</td>\n",
              "      <td>...</td>\n",
              "      <td>...</td>\n",
              "      <td>...</td>\n",
              "      <td>...</td>\n",
              "      <td>...</td>\n",
              "      <td>...</td>\n",
              "      <td>...</td>\n",
              "    </tr>\n",
              "    <tr>\n",
              "      <th>939142</th>\n",
              "      <td>2021-01-17</td>\n",
              "      <td>Unknown</td>\n",
              "      <td>Puerto Rico</td>\n",
              "      <td>NaN</td>\n",
              "      <td>4137</td>\n",
              "      <td>1703.0</td>\n",
              "      <td>January</td>\n",
              "      <td>1</td>\n",
              "      <td>Sunday</td>\n",
              "      <td>17</td>\n",
              "      <td>2021</td>\n",
              "    </tr>\n",
              "    <tr>\n",
              "      <th>939154</th>\n",
              "      <td>2021-01-17</td>\n",
              "      <td>Unknown</td>\n",
              "      <td>Rhode Island</td>\n",
              "      <td>NaN</td>\n",
              "      <td>12765</td>\n",
              "      <td>84.0</td>\n",
              "      <td>January</td>\n",
              "      <td>1</td>\n",
              "      <td>Sunday</td>\n",
              "      <td>17</td>\n",
              "      <td>2021</td>\n",
              "    </tr>\n",
              "    <tr>\n",
              "      <th>939355</th>\n",
              "      <td>2021-01-17</td>\n",
              "      <td>Unknown</td>\n",
              "      <td>Tennessee</td>\n",
              "      <td>NaN</td>\n",
              "      <td>13119</td>\n",
              "      <td>121.0</td>\n",
              "      <td>January</td>\n",
              "      <td>1</td>\n",
              "      <td>Sunday</td>\n",
              "      <td>17</td>\n",
              "      <td>2021</td>\n",
              "    </tr>\n",
              "    <tr>\n",
              "      <th>939642</th>\n",
              "      <td>2021-01-17</td>\n",
              "      <td>Unknown</td>\n",
              "      <td>Utah</td>\n",
              "      <td>NaN</td>\n",
              "      <td>1410</td>\n",
              "      <td>6.0</td>\n",
              "      <td>January</td>\n",
              "      <td>1</td>\n",
              "      <td>Sunday</td>\n",
              "      <td>17</td>\n",
              "      <td>2021</td>\n",
              "    </tr>\n",
              "    <tr>\n",
              "      <th>939659</th>\n",
              "      <td>2021-01-17</td>\n",
              "      <td>Unknown</td>\n",
              "      <td>Vermont</td>\n",
              "      <td>NaN</td>\n",
              "      <td>9</td>\n",
              "      <td>0.0</td>\n",
              "      <td>January</td>\n",
              "      <td>1</td>\n",
              "      <td>Sunday</td>\n",
              "      <td>17</td>\n",
              "      <td>2021</td>\n",
              "    </tr>\n",
              "  </tbody>\n",
              "</table>\n",
              "<p>8772 rows × 11 columns</p>\n",
              "</div>"
            ],
            "text/plain": [
              "             date         county         state  ...      day  day of month  year\n",
              "416    2020-03-01  New York City      New York  ...   Sunday             1  2020\n",
              "418    2020-03-01        Unknown  Rhode Island  ...   Sunday             1  2020\n",
              "448    2020-03-02  New York City      New York  ...   Monday             2  2020\n",
              "450    2020-03-02        Unknown  Rhode Island  ...   Monday             2  2020\n",
              "482    2020-03-03  New York City      New York  ...  Tuesday             3  2020\n",
              "...           ...            ...           ...  ...      ...           ...   ...\n",
              "939142 2021-01-17        Unknown   Puerto Rico  ...   Sunday            17  2021\n",
              "939154 2021-01-17        Unknown  Rhode Island  ...   Sunday            17  2021\n",
              "939355 2021-01-17        Unknown     Tennessee  ...   Sunday            17  2021\n",
              "939642 2021-01-17        Unknown          Utah  ...   Sunday            17  2021\n",
              "939659 2021-01-17        Unknown       Vermont  ...   Sunday            17  2021\n",
              "\n",
              "[8772 rows x 11 columns]"
            ]
          },
          "metadata": {
            "tags": []
          },
          "execution_count": 14
        }
      ]
    },
    {
      "cell_type": "code",
      "metadata": {
        "colab": {
          "base_uri": "https://localhost:8080/",
          "height": 424
        },
        "id": "zFHHcVz_xfaL",
        "outputId": "cb0029da-f413-47b3-8984-3735e0f65e3f"
      },
      "source": [
        "data[data['county'] == 'Unknown']"
      ],
      "execution_count": 15,
      "outputs": [
        {
          "output_type": "execute_result",
          "data": {
            "text/html": [
              "<div>\n",
              "<style scoped>\n",
              "    .dataframe tbody tr th:only-of-type {\n",
              "        vertical-align: middle;\n",
              "    }\n",
              "\n",
              "    .dataframe tbody tr th {\n",
              "        vertical-align: top;\n",
              "    }\n",
              "\n",
              "    .dataframe thead th {\n",
              "        text-align: right;\n",
              "    }\n",
              "</style>\n",
              "<table border=\"1\" class=\"dataframe\">\n",
              "  <thead>\n",
              "    <tr style=\"text-align: right;\">\n",
              "      <th></th>\n",
              "      <th>date</th>\n",
              "      <th>county</th>\n",
              "      <th>state</th>\n",
              "      <th>fips</th>\n",
              "      <th>cases</th>\n",
              "      <th>deaths</th>\n",
              "      <th>month</th>\n",
              "      <th>month of year</th>\n",
              "      <th>day</th>\n",
              "      <th>day of month</th>\n",
              "      <th>year</th>\n",
              "    </tr>\n",
              "  </thead>\n",
              "  <tbody>\n",
              "    <tr>\n",
              "      <th>418</th>\n",
              "      <td>2020-03-01</td>\n",
              "      <td>Unknown</td>\n",
              "      <td>Rhode Island</td>\n",
              "      <td>NaN</td>\n",
              "      <td>2</td>\n",
              "      <td>0.0</td>\n",
              "      <td>March</td>\n",
              "      <td>3</td>\n",
              "      <td>Sunday</td>\n",
              "      <td>1</td>\n",
              "      <td>2020</td>\n",
              "    </tr>\n",
              "    <tr>\n",
              "      <th>450</th>\n",
              "      <td>2020-03-02</td>\n",
              "      <td>Unknown</td>\n",
              "      <td>Rhode Island</td>\n",
              "      <td>NaN</td>\n",
              "      <td>2</td>\n",
              "      <td>0.0</td>\n",
              "      <td>March</td>\n",
              "      <td>3</td>\n",
              "      <td>Monday</td>\n",
              "      <td>2</td>\n",
              "      <td>2020</td>\n",
              "    </tr>\n",
              "    <tr>\n",
              "      <th>485</th>\n",
              "      <td>2020-03-03</td>\n",
              "      <td>Unknown</td>\n",
              "      <td>Rhode Island</td>\n",
              "      <td>NaN</td>\n",
              "      <td>2</td>\n",
              "      <td>0.0</td>\n",
              "      <td>March</td>\n",
              "      <td>3</td>\n",
              "      <td>Tuesday</td>\n",
              "      <td>3</td>\n",
              "      <td>2020</td>\n",
              "    </tr>\n",
              "    <tr>\n",
              "      <th>522</th>\n",
              "      <td>2020-03-04</td>\n",
              "      <td>Unknown</td>\n",
              "      <td>Rhode Island</td>\n",
              "      <td>NaN</td>\n",
              "      <td>2</td>\n",
              "      <td>0.0</td>\n",
              "      <td>March</td>\n",
              "      <td>3</td>\n",
              "      <td>Wednesday</td>\n",
              "      <td>4</td>\n",
              "      <td>2020</td>\n",
              "    </tr>\n",
              "    <tr>\n",
              "      <th>569</th>\n",
              "      <td>2020-03-05</td>\n",
              "      <td>Unknown</td>\n",
              "      <td>Rhode Island</td>\n",
              "      <td>NaN</td>\n",
              "      <td>2</td>\n",
              "      <td>0.0</td>\n",
              "      <td>March</td>\n",
              "      <td>3</td>\n",
              "      <td>Thursday</td>\n",
              "      <td>5</td>\n",
              "      <td>2020</td>\n",
              "    </tr>\n",
              "    <tr>\n",
              "      <th>...</th>\n",
              "      <td>...</td>\n",
              "      <td>...</td>\n",
              "      <td>...</td>\n",
              "      <td>...</td>\n",
              "      <td>...</td>\n",
              "      <td>...</td>\n",
              "      <td>...</td>\n",
              "      <td>...</td>\n",
              "      <td>...</td>\n",
              "      <td>...</td>\n",
              "      <td>...</td>\n",
              "    </tr>\n",
              "    <tr>\n",
              "      <th>939142</th>\n",
              "      <td>2021-01-17</td>\n",
              "      <td>Unknown</td>\n",
              "      <td>Puerto Rico</td>\n",
              "      <td>NaN</td>\n",
              "      <td>4137</td>\n",
              "      <td>1703.0</td>\n",
              "      <td>January</td>\n",
              "      <td>1</td>\n",
              "      <td>Sunday</td>\n",
              "      <td>17</td>\n",
              "      <td>2021</td>\n",
              "    </tr>\n",
              "    <tr>\n",
              "      <th>939154</th>\n",
              "      <td>2021-01-17</td>\n",
              "      <td>Unknown</td>\n",
              "      <td>Rhode Island</td>\n",
              "      <td>NaN</td>\n",
              "      <td>12765</td>\n",
              "      <td>84.0</td>\n",
              "      <td>January</td>\n",
              "      <td>1</td>\n",
              "      <td>Sunday</td>\n",
              "      <td>17</td>\n",
              "      <td>2021</td>\n",
              "    </tr>\n",
              "    <tr>\n",
              "      <th>939355</th>\n",
              "      <td>2021-01-17</td>\n",
              "      <td>Unknown</td>\n",
              "      <td>Tennessee</td>\n",
              "      <td>NaN</td>\n",
              "      <td>13119</td>\n",
              "      <td>121.0</td>\n",
              "      <td>January</td>\n",
              "      <td>1</td>\n",
              "      <td>Sunday</td>\n",
              "      <td>17</td>\n",
              "      <td>2021</td>\n",
              "    </tr>\n",
              "    <tr>\n",
              "      <th>939642</th>\n",
              "      <td>2021-01-17</td>\n",
              "      <td>Unknown</td>\n",
              "      <td>Utah</td>\n",
              "      <td>NaN</td>\n",
              "      <td>1410</td>\n",
              "      <td>6.0</td>\n",
              "      <td>January</td>\n",
              "      <td>1</td>\n",
              "      <td>Sunday</td>\n",
              "      <td>17</td>\n",
              "      <td>2021</td>\n",
              "    </tr>\n",
              "    <tr>\n",
              "      <th>939659</th>\n",
              "      <td>2021-01-17</td>\n",
              "      <td>Unknown</td>\n",
              "      <td>Vermont</td>\n",
              "      <td>NaN</td>\n",
              "      <td>9</td>\n",
              "      <td>0.0</td>\n",
              "      <td>January</td>\n",
              "      <td>1</td>\n",
              "      <td>Sunday</td>\n",
              "      <td>17</td>\n",
              "      <td>2021</td>\n",
              "    </tr>\n",
              "  </tbody>\n",
              "</table>\n",
              "<p>7938 rows × 11 columns</p>\n",
              "</div>"
            ],
            "text/plain": [
              "             date   county         state  ...        day  day of month  year\n",
              "418    2020-03-01  Unknown  Rhode Island  ...     Sunday             1  2020\n",
              "450    2020-03-02  Unknown  Rhode Island  ...     Monday             2  2020\n",
              "485    2020-03-03  Unknown  Rhode Island  ...    Tuesday             3  2020\n",
              "522    2020-03-04  Unknown  Rhode Island  ...  Wednesday             4  2020\n",
              "569    2020-03-05  Unknown  Rhode Island  ...   Thursday             5  2020\n",
              "...           ...      ...           ...  ...        ...           ...   ...\n",
              "939142 2021-01-17  Unknown   Puerto Rico  ...     Sunday            17  2021\n",
              "939154 2021-01-17  Unknown  Rhode Island  ...     Sunday            17  2021\n",
              "939355 2021-01-17  Unknown     Tennessee  ...     Sunday            17  2021\n",
              "939642 2021-01-17  Unknown          Utah  ...     Sunday            17  2021\n",
              "939659 2021-01-17  Unknown       Vermont  ...     Sunday            17  2021\n",
              "\n",
              "[7938 rows x 11 columns]"
            ]
          },
          "metadata": {
            "tags": []
          },
          "execution_count": 15
        }
      ]
    },
    {
      "cell_type": "markdown",
      "metadata": {
        "id": "9lJmhFM7trL9"
      },
      "source": [
        "### Graph 2.1 - Heatmap of Missing Values"
      ]
    },
    {
      "cell_type": "code",
      "metadata": {
        "colab": {
          "base_uri": "https://localhost:8080/",
          "height": 398
        },
        "id": "JBXafkfeT1A5",
        "outputId": "b015d518-f35c-4c83-f321-322e84c02a0c"
      },
      "source": [
        "sns.set_style('whitegrid')\r\n",
        "plt.figure(figsize=(10,5))\r\n",
        "sns.heatmap(data.isnull(), yticklabels=False, cbar=False, cmap='crest')"
      ],
      "execution_count": 16,
      "outputs": [
        {
          "output_type": "execute_result",
          "data": {
            "text/plain": [
              "<matplotlib.axes._subplots.AxesSubplot at 0x7f13b9d0e390>"
            ]
          },
          "metadata": {
            "tags": []
          },
          "execution_count": 16
        },
        {
          "output_type": "display_data",
          "data": {
            "image/png": "[encoded data removed]",
            "text/plain": [
              "<Figure size 720x360 with 1 Axes>"
            ]
          },
          "metadata": {
            "tags": []
          }
        }
      ]
    },
    {
      "cell_type": "markdown",
      "metadata": {
        "id": "g-K-v8eiCk8a"
      },
      "source": [
        "Our analysis from earlier showed that ~2.1% of the rows had a null value for ```deaths``` while ~0.93% of the rows had a null value for ```fips```."
      ]
    },
    {
      "cell_type": "markdown",
      "metadata": {
        "id": "oRskme2mGXin"
      },
      "source": [
        "# Analysis of COVID-19 in the United States"
      ]
    },
    {
      "cell_type": "markdown",
      "metadata": {
        "id": "QBGK5nZUujGE"
      },
      "source": [
        "## Analyzing United States COVID-19 Data in 2020"
      ]
    },
    {
      "cell_type": "code",
      "metadata": {
        "id": "nFXgAVdFGckL"
      },
      "source": [
        "# Gets the COVID-19 data at the end of 2020. We previously established\r\n",
        "# that the bot automatically updates each county with the new totals for\r\n",
        "# each day.\r\n",
        "data_2020 = data[(data['year'] == 2020) & (data['month'] == 'December') & (data['day of month'] == 31)].sort_values('cases', ascending=False)"
      ],
      "execution_count": 17,
      "outputs": []
    },
    {
      "cell_type": "code",
      "metadata": {
        "colab": {
          "base_uri": "https://localhost:8080/",
          "height": 424
        },
        "id": "lMdES-hcGhci",
        "outputId": "813e8bd7-f593-4056-f425-be9a624408c2"
      },
      "source": [
        "data_2020"
      ],
      "execution_count": 18,
      "outputs": [
        {
          "output_type": "execute_result",
          "data": {
            "text/html": [
              "<div>\n",
              "<style scoped>\n",
              "    .dataframe tbody tr th:only-of-type {\n",
              "        vertical-align: middle;\n",
              "    }\n",
              "\n",
              "    .dataframe tbody tr th {\n",
              "        vertical-align: top;\n",
              "    }\n",
              "\n",
              "    .dataframe thead th {\n",
              "        text-align: right;\n",
              "    }\n",
              "</style>\n",
              "<table border=\"1\" class=\"dataframe\">\n",
              "  <thead>\n",
              "    <tr style=\"text-align: right;\">\n",
              "      <th></th>\n",
              "      <th>date</th>\n",
              "      <th>county</th>\n",
              "      <th>state</th>\n",
              "      <th>fips</th>\n",
              "      <th>cases</th>\n",
              "      <th>deaths</th>\n",
              "      <th>month</th>\n",
              "      <th>month of year</th>\n",
              "      <th>day</th>\n",
              "      <th>day of month</th>\n",
              "      <th>year</th>\n",
              "    </tr>\n",
              "  </thead>\n",
              "  <tbody>\n",
              "    <tr>\n",
              "      <th>881776</th>\n",
              "      <td>2020-12-31</td>\n",
              "      <td>Los Angeles</td>\n",
              "      <td>California</td>\n",
              "      <td>6037.0</td>\n",
              "      <td>770915</td>\n",
              "      <td>10345.0</td>\n",
              "      <td>December</td>\n",
              "      <td>12</td>\n",
              "      <td>Thursday</td>\n",
              "      <td>31</td>\n",
              "      <td>2020</td>\n",
              "    </tr>\n",
              "    <tr>\n",
              "      <th>883445</th>\n",
              "      <td>2020-12-31</td>\n",
              "      <td>New York City</td>\n",
              "      <td>New York</td>\n",
              "      <td>NaN</td>\n",
              "      <td>430863</td>\n",
              "      <td>25144.0</td>\n",
              "      <td>December</td>\n",
              "      <td>12</td>\n",
              "      <td>Thursday</td>\n",
              "      <td>31</td>\n",
              "      <td>2020</td>\n",
              "    </tr>\n",
              "    <tr>\n",
              "      <th>882187</th>\n",
              "      <td>2020-12-31</td>\n",
              "      <td>Cook</td>\n",
              "      <td>Illinois</td>\n",
              "      <td>17031.0</td>\n",
              "      <td>393652</td>\n",
              "      <td>8285.0</td>\n",
              "      <td>December</td>\n",
              "      <td>12</td>\n",
              "      <td>Thursday</td>\n",
              "      <td>31</td>\n",
              "      <td>2020</td>\n",
              "    </tr>\n",
              "    <tr>\n",
              "      <th>881674</th>\n",
              "      <td>2020-12-31</td>\n",
              "      <td>Maricopa</td>\n",
              "      <td>Arizona</td>\n",
              "      <td>4013.0</td>\n",
              "      <td>322449</td>\n",
              "      <td>5125.0</td>\n",
              "      <td>December</td>\n",
              "      <td>12</td>\n",
              "      <td>Thursday</td>\n",
              "      <td>31</td>\n",
              "      <td>2020</td>\n",
              "    </tr>\n",
              "    <tr>\n",
              "      <th>881936</th>\n",
              "      <td>2020-12-31</td>\n",
              "      <td>Miami-Dade</td>\n",
              "      <td>Florida</td>\n",
              "      <td>12086.0</td>\n",
              "      <td>298872</td>\n",
              "      <td>4188.0</td>\n",
              "      <td>December</td>\n",
              "      <td>12</td>\n",
              "      <td>Thursday</td>\n",
              "      <td>31</td>\n",
              "      <td>2020</td>\n",
              "    </tr>\n",
              "    <tr>\n",
              "      <th>...</th>\n",
              "      <td>...</td>\n",
              "      <td>...</td>\n",
              "      <td>...</td>\n",
              "      <td>...</td>\n",
              "      <td>...</td>\n",
              "      <td>...</td>\n",
              "      <td>...</td>\n",
              "      <td>...</td>\n",
              "      <td>...</td>\n",
              "      <td>...</td>\n",
              "      <td>...</td>\n",
              "    </tr>\n",
              "    <tr>\n",
              "      <th>884343</th>\n",
              "      <td>2020-12-31</td>\n",
              "      <td>Loving</td>\n",
              "      <td>Texas</td>\n",
              "      <td>48301.0</td>\n",
              "      <td>1</td>\n",
              "      <td>0.0</td>\n",
              "      <td>December</td>\n",
              "      <td>12</td>\n",
              "      <td>Thursday</td>\n",
              "      <td>31</td>\n",
              "      <td>2020</td>\n",
              "    </tr>\n",
              "    <tr>\n",
              "      <th>882770</th>\n",
              "      <td>2020-12-31</td>\n",
              "      <td>Unknown</td>\n",
              "      <td>Maine</td>\n",
              "      <td>NaN</td>\n",
              "      <td>1</td>\n",
              "      <td>0.0</td>\n",
              "      <td>December</td>\n",
              "      <td>12</td>\n",
              "      <td>Thursday</td>\n",
              "      <td>31</td>\n",
              "      <td>2020</td>\n",
              "    </tr>\n",
              "    <tr>\n",
              "      <th>882125</th>\n",
              "      <td>2020-12-31</td>\n",
              "      <td>Kalawao</td>\n",
              "      <td>Hawaii</td>\n",
              "      <td>15005.0</td>\n",
              "      <td>1</td>\n",
              "      <td>0.0</td>\n",
              "      <td>December</td>\n",
              "      <td>12</td>\n",
              "      <td>Thursday</td>\n",
              "      <td>31</td>\n",
              "      <td>2020</td>\n",
              "    </tr>\n",
              "    <tr>\n",
              "      <th>882564</th>\n",
              "      <td>2020-12-31</td>\n",
              "      <td>Unknown</td>\n",
              "      <td>Kansas</td>\n",
              "      <td>NaN</td>\n",
              "      <td>0</td>\n",
              "      <td>402.0</td>\n",
              "      <td>December</td>\n",
              "      <td>12</td>\n",
              "      <td>Thursday</td>\n",
              "      <td>31</td>\n",
              "      <td>2020</td>\n",
              "    </tr>\n",
              "    <tr>\n",
              "      <th>882795</th>\n",
              "      <td>2020-12-31</td>\n",
              "      <td>Unknown</td>\n",
              "      <td>Maryland</td>\n",
              "      <td>NaN</td>\n",
              "      <td>0</td>\n",
              "      <td>57.0</td>\n",
              "      <td>December</td>\n",
              "      <td>12</td>\n",
              "      <td>Thursday</td>\n",
              "      <td>31</td>\n",
              "      <td>2020</td>\n",
              "    </tr>\n",
              "  </tbody>\n",
              "</table>\n",
              "<p>3245 rows × 11 columns</p>\n",
              "</div>"
            ],
            "text/plain": [
              "             date         county       state  ...       day  day of month  year\n",
              "881776 2020-12-31    Los Angeles  California  ...  Thursday            31  2020\n",
              "883445 2020-12-31  New York City    New York  ...  Thursday            31  2020\n",
              "882187 2020-12-31           Cook    Illinois  ...  Thursday            31  2020\n",
              "881674 2020-12-31       Maricopa     Arizona  ...  Thursday            31  2020\n",
              "881936 2020-12-31     Miami-Dade     Florida  ...  Thursday            31  2020\n",
              "...           ...            ...         ...  ...       ...           ...   ...\n",
              "884343 2020-12-31         Loving       Texas  ...  Thursday            31  2020\n",
              "882770 2020-12-31        Unknown       Maine  ...  Thursday            31  2020\n",
              "882125 2020-12-31        Kalawao      Hawaii  ...  Thursday            31  2020\n",
              "882564 2020-12-31        Unknown      Kansas  ...  Thursday            31  2020\n",
              "882795 2020-12-31        Unknown    Maryland  ...  Thursday            31  2020\n",
              "\n",
              "[3245 rows x 11 columns]"
            ]
          },
          "metadata": {
            "tags": []
          },
          "execution_count": 18
        }
      ]
    },
    {
      "cell_type": "markdown",
      "metadata": {
        "id": "bh6oDPNpDe95"
      },
      "source": [
        "From this, it's clear that the NYTimes COVID bot updates the new running count every day as opposed to the new cases and deaths each day."
      ]
    },
    {
      "cell_type": "markdown",
      "metadata": {
        "id": "3nP6_NVLus6_"
      },
      "source": [
        "## Analyzing Current United States COVID-19 Data"
      ]
    },
    {
      "cell_type": "code",
      "metadata": {
        "colab": {
          "base_uri": "https://localhost:8080/"
        },
        "id": "DklWpEGcGpkG",
        "outputId": "06d80250-3491-40d7-93fe-6b34719ba662"
      },
      "source": [
        "# Shows that the date is currently a Timestamp object\r\n",
        "type(data['date'].iloc[0])"
      ],
      "execution_count": 19,
      "outputs": [
        {
          "output_type": "execute_result",
          "data": {
            "text/plain": [
              "pandas._libs.tslibs.timestamps.Timestamp"
            ]
          },
          "metadata": {
            "tags": []
          },
          "execution_count": 19
        }
      ]
    },
    {
      "cell_type": "code",
      "metadata": {
        "colab": {
          "base_uri": "https://localhost:8080/"
        },
        "id": "0ofBa9oOmhqv",
        "outputId": "bde2d313-0da0-4087-cb76-0ba482a9452b"
      },
      "source": [
        "# Shows that the datetime object has type\r\n",
        "today = pd.to_datetime('now').date()\r\n",
        "print(today.year, today.month, today.day)\r\n",
        "print(type(data['year'].iloc[0]))\r\n",
        "print(type(int(data['year'].iloc[0])))\r\n",
        "print(type(today.year))"
      ],
      "execution_count": 20,
      "outputs": [
        {
          "output_type": "stream",
          "text": [
            "2021 1 18\n",
            "<class 'numpy.int64'>\n",
            "<class 'int'>\n",
            "<class 'int'>\n"
          ],
          "name": "stdout"
        }
      ]
    },
    {
      "cell_type": "code",
      "metadata": {
        "colab": {
          "base_uri": "https://localhost:8080/"
        },
        "id": "OMiPxzH7oO3v",
        "outputId": "7c117fe0-412b-4dc6-850f-a28f24762780"
      },
      "source": [
        "# Shows that the 'date' column in data is normalized to\r\n",
        "# have its times set to midnight.\r\n",
        "print(data.iloc[2]['date'])\r\n",
        "\r\n",
        "# Normalizes a datetime object to set the time to midnight.\r\n",
        "print(pd.Timestamp.now().normalize())"
      ],
      "execution_count": 21,
      "outputs": [
        {
          "output_type": "stream",
          "text": [
            "2020-01-23 00:00:00\n",
            "2021-01-18 00:00:00\n"
          ],
          "name": "stdout"
        }
      ]
    },
    {
      "cell_type": "code",
      "metadata": {
        "id": "XZ-rvgy3rOdB"
      },
      "source": [
        "from datetime import datetime, timedelta\r\n",
        "\r\n",
        "def get_curr_data(data):\r\n",
        "  '''\r\n",
        "  precondition: data is a pandas DataFrame object\r\n",
        "  postcondition: returns the rows with yesterday's date\r\n",
        "  '''\r\n",
        "\r\n",
        "  # Gets yesterday's date since the NYTimes COVID bot updates the previous day's reports\r\n",
        "  # at roughly 1AM EST.\r\n",
        "  yesterday = datetime.now() - timedelta(days=1)\r\n",
        "\r\n",
        "  # Creates a new DataFrame as a subset of the data passed into the function where\r\n",
        "  # the date is for the previous day.\r\n",
        "  curr_data = data[(data['year'] == yesterday.year) &\r\n",
        "                 (data['month of year'] == yesterday.month) &\r\n",
        "                 (data['day of month'] == yesterday.day)].reset_index()\r\n",
        "\r\n",
        "  return curr_data"
      ],
      "execution_count": 22,
      "outputs": []
    },
    {
      "cell_type": "code",
      "metadata": {
        "colab": {
          "base_uri": "https://localhost:8080/",
          "height": 424
        },
        "id": "qAW598Dtsae_",
        "outputId": "a38503b5-d132-4bd4-af8b-2136f9718003"
      },
      "source": [
        "curr_data = get_curr_data(data)\r\n",
        "\r\n",
        "curr_data"
      ],
      "execution_count": 23,
      "outputs": [
        {
          "output_type": "execute_result",
          "data": {
            "text/html": [
              "<div>\n",
              "<style scoped>\n",
              "    .dataframe tbody tr th:only-of-type {\n",
              "        vertical-align: middle;\n",
              "    }\n",
              "\n",
              "    .dataframe tbody tr th {\n",
              "        vertical-align: top;\n",
              "    }\n",
              "\n",
              "    .dataframe thead th {\n",
              "        text-align: right;\n",
              "    }\n",
              "</style>\n",
              "<table border=\"1\" class=\"dataframe\">\n",
              "  <thead>\n",
              "    <tr style=\"text-align: right;\">\n",
              "      <th></th>\n",
              "      <th>index</th>\n",
              "      <th>date</th>\n",
              "      <th>county</th>\n",
              "      <th>state</th>\n",
              "      <th>fips</th>\n",
              "      <th>cases</th>\n",
              "      <th>deaths</th>\n",
              "      <th>month</th>\n",
              "      <th>month of year</th>\n",
              "      <th>day</th>\n",
              "      <th>day of month</th>\n",
              "      <th>year</th>\n",
              "    </tr>\n",
              "  </thead>\n",
              "  <tbody>\n",
              "    <tr>\n",
              "      <th>0</th>\n",
              "      <td>936743</td>\n",
              "      <td>2021-01-17</td>\n",
              "      <td>Autauga</td>\n",
              "      <td>Alabama</td>\n",
              "      <td>1001.0</td>\n",
              "      <td>5184</td>\n",
              "      <td>55.0</td>\n",
              "      <td>January</td>\n",
              "      <td>1</td>\n",
              "      <td>Sunday</td>\n",
              "      <td>17</td>\n",
              "      <td>2021</td>\n",
              "    </tr>\n",
              "    <tr>\n",
              "      <th>1</th>\n",
              "      <td>936744</td>\n",
              "      <td>2021-01-17</td>\n",
              "      <td>Baldwin</td>\n",
              "      <td>Alabama</td>\n",
              "      <td>1003.0</td>\n",
              "      <td>16251</td>\n",
              "      <td>182.0</td>\n",
              "      <td>January</td>\n",
              "      <td>1</td>\n",
              "      <td>Sunday</td>\n",
              "      <td>17</td>\n",
              "      <td>2021</td>\n",
              "    </tr>\n",
              "    <tr>\n",
              "      <th>2</th>\n",
              "      <td>936745</td>\n",
              "      <td>2021-01-17</td>\n",
              "      <td>Barbour</td>\n",
              "      <td>Alabama</td>\n",
              "      <td>1005.0</td>\n",
              "      <td>1729</td>\n",
              "      <td>36.0</td>\n",
              "      <td>January</td>\n",
              "      <td>1</td>\n",
              "      <td>Sunday</td>\n",
              "      <td>17</td>\n",
              "      <td>2021</td>\n",
              "    </tr>\n",
              "    <tr>\n",
              "      <th>3</th>\n",
              "      <td>936746</td>\n",
              "      <td>2021-01-17</td>\n",
              "      <td>Bibb</td>\n",
              "      <td>Alabama</td>\n",
              "      <td>1007.0</td>\n",
              "      <td>2151</td>\n",
              "      <td>47.0</td>\n",
              "      <td>January</td>\n",
              "      <td>1</td>\n",
              "      <td>Sunday</td>\n",
              "      <td>17</td>\n",
              "      <td>2021</td>\n",
              "    </tr>\n",
              "    <tr>\n",
              "      <th>4</th>\n",
              "      <td>936747</td>\n",
              "      <td>2021-01-17</td>\n",
              "      <td>Blount</td>\n",
              "      <td>Alabama</td>\n",
              "      <td>1009.0</td>\n",
              "      <td>5304</td>\n",
              "      <td>83.0</td>\n",
              "      <td>January</td>\n",
              "      <td>1</td>\n",
              "      <td>Sunday</td>\n",
              "      <td>17</td>\n",
              "      <td>2021</td>\n",
              "    </tr>\n",
              "    <tr>\n",
              "      <th>...</th>\n",
              "      <td>...</td>\n",
              "      <td>...</td>\n",
              "      <td>...</td>\n",
              "      <td>...</td>\n",
              "      <td>...</td>\n",
              "      <td>...</td>\n",
              "      <td>...</td>\n",
              "      <td>...</td>\n",
              "      <td>...</td>\n",
              "      <td>...</td>\n",
              "      <td>...</td>\n",
              "      <td>...</td>\n",
              "    </tr>\n",
              "    <tr>\n",
              "      <th>3240</th>\n",
              "      <td>939983</td>\n",
              "      <td>2021-01-17</td>\n",
              "      <td>Sweetwater</td>\n",
              "      <td>Wyoming</td>\n",
              "      <td>56037.0</td>\n",
              "      <td>3290</td>\n",
              "      <td>26.0</td>\n",
              "      <td>January</td>\n",
              "      <td>1</td>\n",
              "      <td>Sunday</td>\n",
              "      <td>17</td>\n",
              "      <td>2021</td>\n",
              "    </tr>\n",
              "    <tr>\n",
              "      <th>3241</th>\n",
              "      <td>939984</td>\n",
              "      <td>2021-01-17</td>\n",
              "      <td>Teton</td>\n",
              "      <td>Wyoming</td>\n",
              "      <td>56039.0</td>\n",
              "      <td>2685</td>\n",
              "      <td>4.0</td>\n",
              "      <td>January</td>\n",
              "      <td>1</td>\n",
              "      <td>Sunday</td>\n",
              "      <td>17</td>\n",
              "      <td>2021</td>\n",
              "    </tr>\n",
              "    <tr>\n",
              "      <th>3242</th>\n",
              "      <td>939985</td>\n",
              "      <td>2021-01-17</td>\n",
              "      <td>Uinta</td>\n",
              "      <td>Wyoming</td>\n",
              "      <td>56041.0</td>\n",
              "      <td>1817</td>\n",
              "      <td>9.0</td>\n",
              "      <td>January</td>\n",
              "      <td>1</td>\n",
              "      <td>Sunday</td>\n",
              "      <td>17</td>\n",
              "      <td>2021</td>\n",
              "    </tr>\n",
              "    <tr>\n",
              "      <th>3243</th>\n",
              "      <td>939986</td>\n",
              "      <td>2021-01-17</td>\n",
              "      <td>Washakie</td>\n",
              "      <td>Wyoming</td>\n",
              "      <td>56043.0</td>\n",
              "      <td>842</td>\n",
              "      <td>23.0</td>\n",
              "      <td>January</td>\n",
              "      <td>1</td>\n",
              "      <td>Sunday</td>\n",
              "      <td>17</td>\n",
              "      <td>2021</td>\n",
              "    </tr>\n",
              "    <tr>\n",
              "      <th>3244</th>\n",
              "      <td>939987</td>\n",
              "      <td>2021-01-17</td>\n",
              "      <td>Weston</td>\n",
              "      <td>Wyoming</td>\n",
              "      <td>56045.0</td>\n",
              "      <td>602</td>\n",
              "      <td>4.0</td>\n",
              "      <td>January</td>\n",
              "      <td>1</td>\n",
              "      <td>Sunday</td>\n",
              "      <td>17</td>\n",
              "      <td>2021</td>\n",
              "    </tr>\n",
              "  </tbody>\n",
              "</table>\n",
              "<p>3245 rows × 12 columns</p>\n",
              "</div>"
            ],
            "text/plain": [
              "       index       date      county  ...     day  day of month  year\n",
              "0     936743 2021-01-17     Autauga  ...  Sunday            17  2021\n",
              "1     936744 2021-01-17     Baldwin  ...  Sunday            17  2021\n",
              "2     936745 2021-01-17     Barbour  ...  Sunday            17  2021\n",
              "3     936746 2021-01-17        Bibb  ...  Sunday            17  2021\n",
              "4     936747 2021-01-17      Blount  ...  Sunday            17  2021\n",
              "...      ...        ...         ...  ...     ...           ...   ...\n",
              "3240  939983 2021-01-17  Sweetwater  ...  Sunday            17  2021\n",
              "3241  939984 2021-01-17       Teton  ...  Sunday            17  2021\n",
              "3242  939985 2021-01-17       Uinta  ...  Sunday            17  2021\n",
              "3243  939986 2021-01-17    Washakie  ...  Sunday            17  2021\n",
              "3244  939987 2021-01-17      Weston  ...  Sunday            17  2021\n",
              "\n",
              "[3245 rows x 12 columns]"
            ]
          },
          "metadata": {
            "tags": []
          },
          "execution_count": 23
        }
      ]
    },
    {
      "cell_type": "code",
      "metadata": {
        "colab": {
          "base_uri": "https://localhost:8080/",
          "height": 1000
        },
        "id": "B7TqI14-xaJI",
        "outputId": "243b51f3-8317-4c0f-ab8d-f59224088476"
      },
      "source": [
        "plt.figure(figsize=(10,20))\r\n",
        "sns.scatterplot(x=curr_data['cases'], y=curr_data['state'], hue=curr_data['deaths'], data=curr_data, palette='crest')\r\n",
        "plt.legend(loc='center left', bbox_to_anchor=(1.25, 0.5), ncol=1)"
      ],
      "execution_count": 42,
      "outputs": [
        {
          "output_type": "execute_result",
          "data": {
            "text/plain": [
              "<matplotlib.legend.Legend at 0x7f13a8e5de10>"
            ]
          },
          "metadata": {
            "tags": []
          },
          "execution_count": 42
        },
        {
          "output_type": "display_data",
          "data": {
            "image/png": "[encoded data removed]",
            "text/plain": [
              "<Figure size 720x1440 with 1 Axes>"
            ]
          },
          "metadata": {
            "tags": []
          }
        }
      ]
    },
    {
      "cell_type": "code",
      "metadata": {
        "colab": {
          "base_uri": "https://localhost:8080/",
          "height": 470
        },
        "id": "9x3w_MXJ4Jf3",
        "outputId": "9334367b-4843-4c6a-aee6-449fb22ac9c9"
      },
      "source": [
        "sns.jointplot(x='fips', y='cases', data=curr_data, palette='mako', kind='kde', fill=True)"
      ],
      "execution_count": 25,
      "outputs": [
        {
          "output_type": "execute_result",
          "data": {
            "text/plain": [
              "<seaborn.axisgrid.JointGrid at 0x7f13c29c54e0>"
            ]
          },
          "metadata": {
            "tags": []
          },
          "execution_count": 25
        },
        {
          "output_type": "display_data",
          "data": {
            "image/png": "[encoded data removed]",
            "text/plain": [
              "<Figure size 432x432 with 3 Axes>"
            ]
          },
          "metadata": {
            "tags": []
          }
        }
      ]
    },
    {
      "cell_type": "markdown",
      "metadata": {
        "id": "JJRWqyGBy0nE"
      },
      "source": [
        "# Analysis of COVID-19 Cases in NYC from Dec. 2020 to Jan. 2021"
      ]
    },
    {
      "cell_type": "markdown",
      "metadata": {
        "id": "o2x7vumnAlTH"
      },
      "source": [
        "## COVID-19 Cases in NYC Since First Report"
      ]
    },
    {
      "cell_type": "code",
      "metadata": {
        "id": "9qeDKmoOzAhJ"
      },
      "source": [
        "# Creating a subset of the original data to get the data pertaining to NYC\r\n",
        "nyc_data = data[(data['state'] == 'New York') & (data['county'] == 'New York City')].reset_index(drop=True)"
      ],
      "execution_count": 26,
      "outputs": []
    },
    {
      "cell_type": "code",
      "metadata": {
        "colab": {
          "base_uri": "https://localhost:8080/",
          "height": 424
        },
        "id": "9ABtp43-bHUo",
        "outputId": "66964c1e-cb76-410b-a805-fbee7df662bf"
      },
      "source": [
        "nyc_data"
      ],
      "execution_count": 27,
      "outputs": [
        {
          "output_type": "execute_result",
          "data": {
            "text/html": [
              "<div>\n",
              "<style scoped>\n",
              "    .dataframe tbody tr th:only-of-type {\n",
              "        vertical-align: middle;\n",
              "    }\n",
              "\n",
              "    .dataframe tbody tr th {\n",
              "        vertical-align: top;\n",
              "    }\n",
              "\n",
              "    .dataframe thead th {\n",
              "        text-align: right;\n",
              "    }\n",
              "</style>\n",
              "<table border=\"1\" class=\"dataframe\">\n",
              "  <thead>\n",
              "    <tr style=\"text-align: right;\">\n",
              "      <th></th>\n",
              "      <th>date</th>\n",
              "      <th>county</th>\n",
              "      <th>state</th>\n",
              "      <th>fips</th>\n",
              "      <th>cases</th>\n",
              "      <th>deaths</th>\n",
              "      <th>month</th>\n",
              "      <th>month of year</th>\n",
              "      <th>day</th>\n",
              "      <th>day of month</th>\n",
              "      <th>year</th>\n",
              "    </tr>\n",
              "  </thead>\n",
              "  <tbody>\n",
              "    <tr>\n",
              "      <th>0</th>\n",
              "      <td>2020-03-01</td>\n",
              "      <td>New York City</td>\n",
              "      <td>New York</td>\n",
              "      <td>NaN</td>\n",
              "      <td>1</td>\n",
              "      <td>0.0</td>\n",
              "      <td>March</td>\n",
              "      <td>3</td>\n",
              "      <td>Sunday</td>\n",
              "      <td>1</td>\n",
              "      <td>2020</td>\n",
              "    </tr>\n",
              "    <tr>\n",
              "      <th>1</th>\n",
              "      <td>2020-03-02</td>\n",
              "      <td>New York City</td>\n",
              "      <td>New York</td>\n",
              "      <td>NaN</td>\n",
              "      <td>1</td>\n",
              "      <td>0.0</td>\n",
              "      <td>March</td>\n",
              "      <td>3</td>\n",
              "      <td>Monday</td>\n",
              "      <td>2</td>\n",
              "      <td>2020</td>\n",
              "    </tr>\n",
              "    <tr>\n",
              "      <th>2</th>\n",
              "      <td>2020-03-03</td>\n",
              "      <td>New York City</td>\n",
              "      <td>New York</td>\n",
              "      <td>NaN</td>\n",
              "      <td>2</td>\n",
              "      <td>0.0</td>\n",
              "      <td>March</td>\n",
              "      <td>3</td>\n",
              "      <td>Tuesday</td>\n",
              "      <td>3</td>\n",
              "      <td>2020</td>\n",
              "    </tr>\n",
              "    <tr>\n",
              "      <th>3</th>\n",
              "      <td>2020-03-04</td>\n",
              "      <td>New York City</td>\n",
              "      <td>New York</td>\n",
              "      <td>NaN</td>\n",
              "      <td>2</td>\n",
              "      <td>0.0</td>\n",
              "      <td>March</td>\n",
              "      <td>3</td>\n",
              "      <td>Wednesday</td>\n",
              "      <td>4</td>\n",
              "      <td>2020</td>\n",
              "    </tr>\n",
              "    <tr>\n",
              "      <th>4</th>\n",
              "      <td>2020-03-05</td>\n",
              "      <td>New York City</td>\n",
              "      <td>New York</td>\n",
              "      <td>NaN</td>\n",
              "      <td>4</td>\n",
              "      <td>0.0</td>\n",
              "      <td>March</td>\n",
              "      <td>3</td>\n",
              "      <td>Thursday</td>\n",
              "      <td>5</td>\n",
              "      <td>2020</td>\n",
              "    </tr>\n",
              "    <tr>\n",
              "      <th>...</th>\n",
              "      <td>...</td>\n",
              "      <td>...</td>\n",
              "      <td>...</td>\n",
              "      <td>...</td>\n",
              "      <td>...</td>\n",
              "      <td>...</td>\n",
              "      <td>...</td>\n",
              "      <td>...</td>\n",
              "      <td>...</td>\n",
              "      <td>...</td>\n",
              "      <td>...</td>\n",
              "    </tr>\n",
              "    <tr>\n",
              "      <th>318</th>\n",
              "      <td>2021-01-13</td>\n",
              "      <td>New York City</td>\n",
              "      <td>New York</td>\n",
              "      <td>NaN</td>\n",
              "      <td>504826</td>\n",
              "      <td>25741.0</td>\n",
              "      <td>January</td>\n",
              "      <td>1</td>\n",
              "      <td>Wednesday</td>\n",
              "      <td>13</td>\n",
              "      <td>2021</td>\n",
              "    </tr>\n",
              "    <tr>\n",
              "      <th>319</th>\n",
              "      <td>2021-01-14</td>\n",
              "      <td>New York City</td>\n",
              "      <td>New York</td>\n",
              "      <td>NaN</td>\n",
              "      <td>510711</td>\n",
              "      <td>25834.0</td>\n",
              "      <td>January</td>\n",
              "      <td>1</td>\n",
              "      <td>Thursday</td>\n",
              "      <td>14</td>\n",
              "      <td>2021</td>\n",
              "    </tr>\n",
              "    <tr>\n",
              "      <th>320</th>\n",
              "      <td>2021-01-15</td>\n",
              "      <td>New York City</td>\n",
              "      <td>New York</td>\n",
              "      <td>NaN</td>\n",
              "      <td>517963</td>\n",
              "      <td>25909.0</td>\n",
              "      <td>January</td>\n",
              "      <td>1</td>\n",
              "      <td>Friday</td>\n",
              "      <td>15</td>\n",
              "      <td>2021</td>\n",
              "    </tr>\n",
              "    <tr>\n",
              "      <th>321</th>\n",
              "      <td>2021-01-16</td>\n",
              "      <td>New York City</td>\n",
              "      <td>New York</td>\n",
              "      <td>NaN</td>\n",
              "      <td>524231</td>\n",
              "      <td>25970.0</td>\n",
              "      <td>January</td>\n",
              "      <td>1</td>\n",
              "      <td>Saturday</td>\n",
              "      <td>16</td>\n",
              "      <td>2021</td>\n",
              "    </tr>\n",
              "    <tr>\n",
              "      <th>322</th>\n",
              "      <td>2021-01-17</td>\n",
              "      <td>New York City</td>\n",
              "      <td>New York</td>\n",
              "      <td>NaN</td>\n",
              "      <td>529834</td>\n",
              "      <td>26036.0</td>\n",
              "      <td>January</td>\n",
              "      <td>1</td>\n",
              "      <td>Sunday</td>\n",
              "      <td>17</td>\n",
              "      <td>2021</td>\n",
              "    </tr>\n",
              "  </tbody>\n",
              "</table>\n",
              "<p>323 rows × 11 columns</p>\n",
              "</div>"
            ],
            "text/plain": [
              "          date         county     state  ...        day  day of month  year\n",
              "0   2020-03-01  New York City  New York  ...     Sunday             1  2020\n",
              "1   2020-03-02  New York City  New York  ...     Monday             2  2020\n",
              "2   2020-03-03  New York City  New York  ...    Tuesday             3  2020\n",
              "3   2020-03-04  New York City  New York  ...  Wednesday             4  2020\n",
              "4   2020-03-05  New York City  New York  ...   Thursday             5  2020\n",
              "..         ...            ...       ...  ...        ...           ...   ...\n",
              "318 2021-01-13  New York City  New York  ...  Wednesday            13  2021\n",
              "319 2021-01-14  New York City  New York  ...   Thursday            14  2021\n",
              "320 2021-01-15  New York City  New York  ...     Friday            15  2021\n",
              "321 2021-01-16  New York City  New York  ...   Saturday            16  2021\n",
              "322 2021-01-17  New York City  New York  ...     Sunday            17  2021\n",
              "\n",
              "[323 rows x 11 columns]"
            ]
          },
          "metadata": {
            "tags": []
          },
          "execution_count": 27
        }
      ]
    },
    {
      "cell_type": "markdown",
      "metadata": {
        "id": "qsRYegSMArT8"
      },
      "source": [
        "### Graph 4.1 - Plot of COVID-19 Cases Since First Report in NYC"
      ]
    },
    {
      "cell_type": "code",
      "metadata": {
        "colab": {
          "base_uri": "https://localhost:8080/",
          "height": 387
        },
        "id": "mUfKnQvCilpm",
        "outputId": "a6882991-d225-43bf-f8e2-2fac058c6638"
      },
      "source": [
        "plt.figure(figsize=(10,5))\r\n",
        "sns.lineplot(data=nyc_data['cases']).set(title='COVID-19 Cases Since First Report - NYC', xlabel='day')"
      ],
      "execution_count": 28,
      "outputs": [
        {
          "output_type": "execute_result",
          "data": {
            "text/plain": [
              "[Text(0.5, 0, 'day'),\n",
              " Text(0.5, 1.0, 'COVID-19 Cases Since First Report - NYC')]"
            ]
          },
          "metadata": {
            "tags": []
          },
          "execution_count": 28
        },
        {
          "output_type": "display_data",
          "data": {
            "image/png": "[encoded data removed]",
            "text/plain": [
              "<Figure size 720x360 with 1 Axes>"
            ]
          },
          "metadata": {
            "tags": []
          }
        }
      ]
    },
    {
      "cell_type": "markdown",
      "metadata": {
        "id": "BAhnnjz0BKd_"
      },
      "source": [
        "## COVID-19 Deaths in NYC Since First Report"
      ]
    },
    {
      "cell_type": "markdown",
      "metadata": {
        "id": "MVQM25TOA0U6"
      },
      "source": [
        "### Graph 4.2 - Plot of COVID-19 Deaths Since First Report in NYC"
      ]
    },
    {
      "cell_type": "code",
      "metadata": {
        "colab": {
          "base_uri": "https://localhost:8080/",
          "height": 387
        },
        "id": "VMTG2CPpA5ql",
        "outputId": "c64e17a0-2e28-41a7-a1cc-875e90d37e93"
      },
      "source": [
        "plt.figure(figsize=(10,5))\r\n",
        "sns.lineplot(data=nyc_data['deaths']).set(title='COVID-19 Cases Since First Report - NYC', xlabel='day')"
      ],
      "execution_count": 29,
      "outputs": [
        {
          "output_type": "execute_result",
          "data": {
            "text/plain": [
              "[Text(0.5, 0, 'day'),\n",
              " Text(0.5, 1.0, 'COVID-19 Cases Since First Report - NYC')]"
            ]
          },
          "metadata": {
            "tags": []
          },
          "execution_count": 29
        },
        {
          "output_type": "display_data",
          "data": {
            "image/png": "[encoded data removed]",
            "text/plain": [
              "<Figure size 720x360 with 1 Axes>"
            ]
          },
          "metadata": {
            "tags": []
          }
        }
      ]
    },
    {
      "cell_type": "markdown",
      "metadata": {
        "id": "-kABzx9wBVXL"
      },
      "source": [
        "## COVID-19 Cases in NYC Over Last 30 Days"
      ]
    },
    {
      "cell_type": "code",
      "metadata": {
        "colab": {
          "base_uri": "https://localhost:8080/",
          "height": 990
        },
        "id": "A-dEFQEGfhg1",
        "outputId": "48c6055f-e0f8-4700-fb30-703358f07bbe"
      },
      "source": [
        "# Creating a subset of the NYC data to get the last 30 days\r\n",
        "last_30_nyc = nyc_data.tail(30).reset_index(drop=True)\r\n",
        "\r\n",
        "last_30_nyc"
      ],
      "execution_count": 30,
      "outputs": [
        {
          "output_type": "execute_result",
          "data": {
            "text/html": [
              "<div>\n",
              "<style scoped>\n",
              "    .dataframe tbody tr th:only-of-type {\n",
              "        vertical-align: middle;\n",
              "    }\n",
              "\n",
              "    .dataframe tbody tr th {\n",
              "        vertical-align: top;\n",
              "    }\n",
              "\n",
              "    .dataframe thead th {\n",
              "        text-align: right;\n",
              "    }\n",
              "</style>\n",
              "<table border=\"1\" class=\"dataframe\">\n",
              "  <thead>\n",
              "    <tr style=\"text-align: right;\">\n",
              "      <th></th>\n",
              "      <th>date</th>\n",
              "      <th>county</th>\n",
              "      <th>state</th>\n",
              "      <th>fips</th>\n",
              "      <th>cases</th>\n",
              "      <th>deaths</th>\n",
              "      <th>month</th>\n",
              "      <th>month of year</th>\n",
              "      <th>day</th>\n",
              "      <th>day of month</th>\n",
              "      <th>year</th>\n",
              "    </tr>\n",
              "  </thead>\n",
              "  <tbody>\n",
              "    <tr>\n",
              "      <th>0</th>\n",
              "      <td>2020-12-19</td>\n",
              "      <td>New York City</td>\n",
              "      <td>New York</td>\n",
              "      <td>NaN</td>\n",
              "      <td>381067</td>\n",
              "      <td>24677.0</td>\n",
              "      <td>December</td>\n",
              "      <td>12</td>\n",
              "      <td>Saturday</td>\n",
              "      <td>19</td>\n",
              "      <td>2020</td>\n",
              "    </tr>\n",
              "    <tr>\n",
              "      <th>1</th>\n",
              "      <td>2020-12-20</td>\n",
              "      <td>New York City</td>\n",
              "      <td>New York</td>\n",
              "      <td>NaN</td>\n",
              "      <td>383808</td>\n",
              "      <td>24697.0</td>\n",
              "      <td>December</td>\n",
              "      <td>12</td>\n",
              "      <td>Sunday</td>\n",
              "      <td>20</td>\n",
              "      <td>2020</td>\n",
              "    </tr>\n",
              "    <tr>\n",
              "      <th>2</th>\n",
              "      <td>2020-12-21</td>\n",
              "      <td>New York City</td>\n",
              "      <td>New York</td>\n",
              "      <td>NaN</td>\n",
              "      <td>387595</td>\n",
              "      <td>24735.0</td>\n",
              "      <td>December</td>\n",
              "      <td>12</td>\n",
              "      <td>Monday</td>\n",
              "      <td>21</td>\n",
              "      <td>2020</td>\n",
              "    </tr>\n",
              "    <tr>\n",
              "      <th>3</th>\n",
              "      <td>2020-12-22</td>\n",
              "      <td>New York City</td>\n",
              "      <td>New York</td>\n",
              "      <td>NaN</td>\n",
              "      <td>391634</td>\n",
              "      <td>24768.0</td>\n",
              "      <td>December</td>\n",
              "      <td>12</td>\n",
              "      <td>Tuesday</td>\n",
              "      <td>22</td>\n",
              "      <td>2020</td>\n",
              "    </tr>\n",
              "    <tr>\n",
              "      <th>4</th>\n",
              "      <td>2020-12-23</td>\n",
              "      <td>New York City</td>\n",
              "      <td>New York</td>\n",
              "      <td>NaN</td>\n",
              "      <td>395810</td>\n",
              "      <td>24790.0</td>\n",
              "      <td>December</td>\n",
              "      <td>12</td>\n",
              "      <td>Wednesday</td>\n",
              "      <td>23</td>\n",
              "      <td>2020</td>\n",
              "    </tr>\n",
              "    <tr>\n",
              "      <th>5</th>\n",
              "      <td>2020-12-24</td>\n",
              "      <td>New York City</td>\n",
              "      <td>New York</td>\n",
              "      <td>NaN</td>\n",
              "      <td>401251</td>\n",
              "      <td>24842.0</td>\n",
              "      <td>December</td>\n",
              "      <td>12</td>\n",
              "      <td>Thursday</td>\n",
              "      <td>24</td>\n",
              "      <td>2020</td>\n",
              "    </tr>\n",
              "    <tr>\n",
              "      <th>6</th>\n",
              "      <td>2020-12-25</td>\n",
              "      <td>New York City</td>\n",
              "      <td>New York</td>\n",
              "      <td>NaN</td>\n",
              "      <td>405857</td>\n",
              "      <td>24889.0</td>\n",
              "      <td>December</td>\n",
              "      <td>12</td>\n",
              "      <td>Friday</td>\n",
              "      <td>25</td>\n",
              "      <td>2020</td>\n",
              "    </tr>\n",
              "    <tr>\n",
              "      <th>7</th>\n",
              "      <td>2020-12-26</td>\n",
              "      <td>New York City</td>\n",
              "      <td>New York</td>\n",
              "      <td>NaN</td>\n",
              "      <td>410048</td>\n",
              "      <td>24931.0</td>\n",
              "      <td>December</td>\n",
              "      <td>12</td>\n",
              "      <td>Saturday</td>\n",
              "      <td>26</td>\n",
              "      <td>2020</td>\n",
              "    </tr>\n",
              "    <tr>\n",
              "      <th>8</th>\n",
              "      <td>2020-12-27</td>\n",
              "      <td>New York City</td>\n",
              "      <td>New York</td>\n",
              "      <td>NaN</td>\n",
              "      <td>413472</td>\n",
              "      <td>24973.0</td>\n",
              "      <td>December</td>\n",
              "      <td>12</td>\n",
              "      <td>Sunday</td>\n",
              "      <td>27</td>\n",
              "      <td>2020</td>\n",
              "    </tr>\n",
              "    <tr>\n",
              "      <th>9</th>\n",
              "      <td>2020-12-28</td>\n",
              "      <td>New York City</td>\n",
              "      <td>New York</td>\n",
              "      <td>NaN</td>\n",
              "      <td>416922</td>\n",
              "      <td>25008.0</td>\n",
              "      <td>December</td>\n",
              "      <td>12</td>\n",
              "      <td>Monday</td>\n",
              "      <td>28</td>\n",
              "      <td>2020</td>\n",
              "    </tr>\n",
              "    <tr>\n",
              "      <th>10</th>\n",
              "      <td>2020-12-29</td>\n",
              "      <td>New York City</td>\n",
              "      <td>New York</td>\n",
              "      <td>NaN</td>\n",
              "      <td>422074</td>\n",
              "      <td>25055.0</td>\n",
              "      <td>December</td>\n",
              "      <td>12</td>\n",
              "      <td>Tuesday</td>\n",
              "      <td>29</td>\n",
              "      <td>2020</td>\n",
              "    </tr>\n",
              "    <tr>\n",
              "      <th>11</th>\n",
              "      <td>2020-12-30</td>\n",
              "      <td>New York City</td>\n",
              "      <td>New York</td>\n",
              "      <td>NaN</td>\n",
              "      <td>426279</td>\n",
              "      <td>25099.0</td>\n",
              "      <td>December</td>\n",
              "      <td>12</td>\n",
              "      <td>Wednesday</td>\n",
              "      <td>30</td>\n",
              "      <td>2020</td>\n",
              "    </tr>\n",
              "    <tr>\n",
              "      <th>12</th>\n",
              "      <td>2020-12-31</td>\n",
              "      <td>New York City</td>\n",
              "      <td>New York</td>\n",
              "      <td>NaN</td>\n",
              "      <td>430863</td>\n",
              "      <td>25144.0</td>\n",
              "      <td>December</td>\n",
              "      <td>12</td>\n",
              "      <td>Thursday</td>\n",
              "      <td>31</td>\n",
              "      <td>2020</td>\n",
              "    </tr>\n",
              "    <tr>\n",
              "      <th>13</th>\n",
              "      <td>2021-01-01</td>\n",
              "      <td>New York City</td>\n",
              "      <td>New York</td>\n",
              "      <td>NaN</td>\n",
              "      <td>436692</td>\n",
              "      <td>25186.0</td>\n",
              "      <td>January</td>\n",
              "      <td>1</td>\n",
              "      <td>Friday</td>\n",
              "      <td>1</td>\n",
              "      <td>2021</td>\n",
              "    </tr>\n",
              "    <tr>\n",
              "      <th>14</th>\n",
              "      <td>2021-01-02</td>\n",
              "      <td>New York City</td>\n",
              "      <td>New York</td>\n",
              "      <td>NaN</td>\n",
              "      <td>442695</td>\n",
              "      <td>25211.0</td>\n",
              "      <td>January</td>\n",
              "      <td>1</td>\n",
              "      <td>Saturday</td>\n",
              "      <td>2</td>\n",
              "      <td>2021</td>\n",
              "    </tr>\n",
              "    <tr>\n",
              "      <th>15</th>\n",
              "      <td>2021-01-03</td>\n",
              "      <td>New York City</td>\n",
              "      <td>New York</td>\n",
              "      <td>NaN</td>\n",
              "      <td>446899</td>\n",
              "      <td>25244.0</td>\n",
              "      <td>January</td>\n",
              "      <td>1</td>\n",
              "      <td>Sunday</td>\n",
              "      <td>3</td>\n",
              "      <td>2021</td>\n",
              "    </tr>\n",
              "    <tr>\n",
              "      <th>16</th>\n",
              "      <td>2021-01-04</td>\n",
              "      <td>New York City</td>\n",
              "      <td>New York</td>\n",
              "      <td>NaN</td>\n",
              "      <td>450658</td>\n",
              "      <td>25284.0</td>\n",
              "      <td>January</td>\n",
              "      <td>1</td>\n",
              "      <td>Monday</td>\n",
              "      <td>4</td>\n",
              "      <td>2021</td>\n",
              "    </tr>\n",
              "    <tr>\n",
              "      <th>17</th>\n",
              "      <td>2021-01-05</td>\n",
              "      <td>New York City</td>\n",
              "      <td>New York</td>\n",
              "      <td>NaN</td>\n",
              "      <td>455997</td>\n",
              "      <td>25309.0</td>\n",
              "      <td>January</td>\n",
              "      <td>1</td>\n",
              "      <td>Tuesday</td>\n",
              "      <td>5</td>\n",
              "      <td>2021</td>\n",
              "    </tr>\n",
              "    <tr>\n",
              "      <th>18</th>\n",
              "      <td>2021-01-06</td>\n",
              "      <td>New York City</td>\n",
              "      <td>New York</td>\n",
              "      <td>NaN</td>\n",
              "      <td>460988</td>\n",
              "      <td>25362.0</td>\n",
              "      <td>January</td>\n",
              "      <td>1</td>\n",
              "      <td>Wednesday</td>\n",
              "      <td>6</td>\n",
              "      <td>2021</td>\n",
              "    </tr>\n",
              "    <tr>\n",
              "      <th>19</th>\n",
              "      <td>2021-01-07</td>\n",
              "      <td>New York City</td>\n",
              "      <td>New York</td>\n",
              "      <td>NaN</td>\n",
              "      <td>467327</td>\n",
              "      <td>25416.0</td>\n",
              "      <td>January</td>\n",
              "      <td>1</td>\n",
              "      <td>Thursday</td>\n",
              "      <td>7</td>\n",
              "      <td>2021</td>\n",
              "    </tr>\n",
              "    <tr>\n",
              "      <th>20</th>\n",
              "      <td>2021-01-08</td>\n",
              "      <td>New York City</td>\n",
              "      <td>New York</td>\n",
              "      <td>NaN</td>\n",
              "      <td>474339</td>\n",
              "      <td>25453.0</td>\n",
              "      <td>January</td>\n",
              "      <td>1</td>\n",
              "      <td>Friday</td>\n",
              "      <td>8</td>\n",
              "      <td>2021</td>\n",
              "    </tr>\n",
              "    <tr>\n",
              "      <th>21</th>\n",
              "      <td>2021-01-09</td>\n",
              "      <td>New York City</td>\n",
              "      <td>New York</td>\n",
              "      <td>NaN</td>\n",
              "      <td>481279</td>\n",
              "      <td>25505.0</td>\n",
              "      <td>January</td>\n",
              "      <td>1</td>\n",
              "      <td>Saturday</td>\n",
              "      <td>9</td>\n",
              "      <td>2021</td>\n",
              "    </tr>\n",
              "    <tr>\n",
              "      <th>22</th>\n",
              "      <td>2021-01-10</td>\n",
              "      <td>New York City</td>\n",
              "      <td>New York</td>\n",
              "      <td>NaN</td>\n",
              "      <td>487551</td>\n",
              "      <td>25562.0</td>\n",
              "      <td>January</td>\n",
              "      <td>1</td>\n",
              "      <td>Sunday</td>\n",
              "      <td>10</td>\n",
              "      <td>2021</td>\n",
              "    </tr>\n",
              "    <tr>\n",
              "      <th>23</th>\n",
              "      <td>2021-01-11</td>\n",
              "      <td>New York City</td>\n",
              "      <td>New York</td>\n",
              "      <td>NaN</td>\n",
              "      <td>493306</td>\n",
              "      <td>25635.0</td>\n",
              "      <td>January</td>\n",
              "      <td>1</td>\n",
              "      <td>Monday</td>\n",
              "      <td>11</td>\n",
              "      <td>2021</td>\n",
              "    </tr>\n",
              "    <tr>\n",
              "      <th>24</th>\n",
              "      <td>2021-01-12</td>\n",
              "      <td>New York City</td>\n",
              "      <td>New York</td>\n",
              "      <td>NaN</td>\n",
              "      <td>498877</td>\n",
              "      <td>25698.0</td>\n",
              "      <td>January</td>\n",
              "      <td>1</td>\n",
              "      <td>Tuesday</td>\n",
              "      <td>12</td>\n",
              "      <td>2021</td>\n",
              "    </tr>\n",
              "    <tr>\n",
              "      <th>25</th>\n",
              "      <td>2021-01-13</td>\n",
              "      <td>New York City</td>\n",
              "      <td>New York</td>\n",
              "      <td>NaN</td>\n",
              "      <td>504826</td>\n",
              "      <td>25741.0</td>\n",
              "      <td>January</td>\n",
              "      <td>1</td>\n",
              "      <td>Wednesday</td>\n",
              "      <td>13</td>\n",
              "      <td>2021</td>\n",
              "    </tr>\n",
              "    <tr>\n",
              "      <th>26</th>\n",
              "      <td>2021-01-14</td>\n",
              "      <td>New York City</td>\n",
              "      <td>New York</td>\n",
              "      <td>NaN</td>\n",
              "      <td>510711</td>\n",
              "      <td>25834.0</td>\n",
              "      <td>January</td>\n",
              "      <td>1</td>\n",
              "      <td>Thursday</td>\n",
              "      <td>14</td>\n",
              "      <td>2021</td>\n",
              "    </tr>\n",
              "    <tr>\n",
              "      <th>27</th>\n",
              "      <td>2021-01-15</td>\n",
              "      <td>New York City</td>\n",
              "      <td>New York</td>\n",
              "      <td>NaN</td>\n",
              "      <td>517963</td>\n",
              "      <td>25909.0</td>\n",
              "      <td>January</td>\n",
              "      <td>1</td>\n",
              "      <td>Friday</td>\n",
              "      <td>15</td>\n",
              "      <td>2021</td>\n",
              "    </tr>\n",
              "    <tr>\n",
              "      <th>28</th>\n",
              "      <td>2021-01-16</td>\n",
              "      <td>New York City</td>\n",
              "      <td>New York</td>\n",
              "      <td>NaN</td>\n",
              "      <td>524231</td>\n",
              "      <td>25970.0</td>\n",
              "      <td>January</td>\n",
              "      <td>1</td>\n",
              "      <td>Saturday</td>\n",
              "      <td>16</td>\n",
              "      <td>2021</td>\n",
              "    </tr>\n",
              "    <tr>\n",
              "      <th>29</th>\n",
              "      <td>2021-01-17</td>\n",
              "      <td>New York City</td>\n",
              "      <td>New York</td>\n",
              "      <td>NaN</td>\n",
              "      <td>529834</td>\n",
              "      <td>26036.0</td>\n",
              "      <td>January</td>\n",
              "      <td>1</td>\n",
              "      <td>Sunday</td>\n",
              "      <td>17</td>\n",
              "      <td>2021</td>\n",
              "    </tr>\n",
              "  </tbody>\n",
              "</table>\n",
              "</div>"
            ],
            "text/plain": [
              "         date         county     state  ...        day  day of month  year\n",
              "0  2020-12-19  New York City  New York  ...   Saturday            19  2020\n",
              "1  2020-12-20  New York City  New York  ...     Sunday            20  2020\n",
              "2  2020-12-21  New York City  New York  ...     Monday            21  2020\n",
              "3  2020-12-22  New York City  New York  ...    Tuesday            22  2020\n",
              "4  2020-12-23  New York City  New York  ...  Wednesday            23  2020\n",
              "5  2020-12-24  New York City  New York  ...   Thursday            24  2020\n",
              "6  2020-12-25  New York City  New York  ...     Friday            25  2020\n",
              "7  2020-12-26  New York City  New York  ...   Saturday            26  2020\n",
              "8  2020-12-27  New York City  New York  ...     Sunday            27  2020\n",
              "9  2020-12-28  New York City  New York  ...     Monday            28  2020\n",
              "10 2020-12-29  New York City  New York  ...    Tuesday            29  2020\n",
              "11 2020-12-30  New York City  New York  ...  Wednesday            30  2020\n",
              "12 2020-12-31  New York City  New York  ...   Thursday            31  2020\n",
              "13 2021-01-01  New York City  New York  ...     Friday             1  2021\n",
              "14 2021-01-02  New York City  New York  ...   Saturday             2  2021\n",
              "15 2021-01-03  New York City  New York  ...     Sunday             3  2021\n",
              "16 2021-01-04  New York City  New York  ...     Monday             4  2021\n",
              "17 2021-01-05  New York City  New York  ...    Tuesday             5  2021\n",
              "18 2021-01-06  New York City  New York  ...  Wednesday             6  2021\n",
              "19 2021-01-07  New York City  New York  ...   Thursday             7  2021\n",
              "20 2021-01-08  New York City  New York  ...     Friday             8  2021\n",
              "21 2021-01-09  New York City  New York  ...   Saturday             9  2021\n",
              "22 2021-01-10  New York City  New York  ...     Sunday            10  2021\n",
              "23 2021-01-11  New York City  New York  ...     Monday            11  2021\n",
              "24 2021-01-12  New York City  New York  ...    Tuesday            12  2021\n",
              "25 2021-01-13  New York City  New York  ...  Wednesday            13  2021\n",
              "26 2021-01-14  New York City  New York  ...   Thursday            14  2021\n",
              "27 2021-01-15  New York City  New York  ...     Friday            15  2021\n",
              "28 2021-01-16  New York City  New York  ...   Saturday            16  2021\n",
              "29 2021-01-17  New York City  New York  ...     Sunday            17  2021\n",
              "\n",
              "[30 rows x 11 columns]"
            ]
          },
          "metadata": {
            "tags": []
          },
          "execution_count": 30
        }
      ]
    },
    {
      "cell_type": "markdown",
      "metadata": {
        "id": "NiwgJNayBao9"
      },
      "source": [
        "### Graph 4.3 - Plot of COVID-19 Cases Over Last 30 Days\r\n"
      ]
    },
    {
      "cell_type": "code",
      "metadata": {
        "colab": {
          "base_uri": "https://localhost:8080/",
          "height": 368
        },
        "id": "J6jtbdUEf4Hy",
        "outputId": "1df5dfc5-55a0-4c8c-b5a9-8493af427276"
      },
      "source": [
        "plt.figure(figsize=(10,5))\r\n",
        "sns.lineplot(data=last_30_nyc['cases']).set(title='COVID-19 Cases Over Last 30 Days - NYC', xlabel='day')"
      ],
      "execution_count": 31,
      "outputs": [
        {
          "output_type": "execute_result",
          "data": {
            "text/plain": [
              "[Text(0.5, 0, 'day'), Text(0.5, 1.0, 'COVID-19 Cases Over Last 30 Days - NYC')]"
            ]
          },
          "metadata": {
            "tags": []
          },
          "execution_count": 31
        },
        {
          "output_type": "display_data",
          "data": {
            "image/png": "[encoded data removed]",
            "text/plain": [
              "<Figure size 720x360 with 1 Axes>"
            ]
          },
          "metadata": {
            "tags": []
          }
        }
      ]
    },
    {
      "cell_type": "markdown",
      "metadata": {
        "id": "p8aYvMlSBitj"
      },
      "source": [
        "## COVID-19 Deaths in NYC Over Last 30 Days"
      ]
    },
    {
      "cell_type": "markdown",
      "metadata": {
        "id": "iTgxxNq2BoHT"
      },
      "source": [
        "### Graph 4.4 - Plot of COVID-19 Deaths Over Last 30 Days\r\n"
      ]
    },
    {
      "cell_type": "code",
      "metadata": {
        "colab": {
          "base_uri": "https://localhost:8080/",
          "height": 368
        },
        "id": "2Q5vv_nwBoyT",
        "outputId": "3e91feea-ad8b-4b91-fc3e-dee5af8bcdca"
      },
      "source": [
        "plt.figure(figsize=(10,5))\r\n",
        "sns.lineplot(data=last_30_nyc['deaths']).set(title='COVID-19 Cases Over Last 30 Days - NYC', xlabel='day')"
      ],
      "execution_count": 52,
      "outputs": [
        {
          "output_type": "execute_result",
          "data": {
            "text/plain": [
              "[Text(0.5, 0, 'day'), Text(0.5, 1.0, 'COVID-19 Cases Over Last 30 Days - NYC')]"
            ]
          },
          "metadata": {
            "tags": []
          },
          "execution_count": 52
        },
        {
          "output_type": "display_data",
          "data": {
            "image/png": "[encoded data removed]",
            "text/plain": [
              "<Figure size 720x360 with 1 Axes>"
            ]
          },
          "metadata": {
            "tags": []
          }
        }
      ]
    },
    {
      "cell_type": "markdown",
      "metadata": {
        "id": "HIlmg8NIy8mX"
      },
      "source": [
        "# Comparing COVID-19 Cases in NY to Other States and Territories"
      ]
    },
    {
      "cell_type": "code",
      "metadata": {
        "id": "CAxUS_f2bH28",
        "colab": {
          "base_uri": "https://localhost:8080/"
        },
        "outputId": "f4120296-13ec-421e-dd6e-9d5fff34d612"
      },
      "source": [
        "# We previously created curr_data in Section 3 - Analysis of\r\n",
        "# COVID-19 in the United States.\r\n",
        "curr_data.state.unique()"
      ],
      "execution_count": 35,
      "outputs": [
        {
          "output_type": "execute_result",
          "data": {
            "text/plain": [
              "array(['Alabama', 'Alaska', 'Arizona', 'Arkansas', 'California',\n",
              "       'Colorado', 'Connecticut', 'Delaware', 'District of Columbia',\n",
              "       'Florida', 'Georgia', 'Guam', 'Hawaii', 'Idaho', 'Illinois',\n",
              "       'Indiana', 'Iowa', 'Kansas', 'Kentucky', 'Louisiana', 'Maine',\n",
              "       'Maryland', 'Massachusetts', 'Michigan', 'Minnesota',\n",
              "       'Mississippi', 'Missouri', 'Montana', 'Nebraska', 'Nevada',\n",
              "       'New Hampshire', 'New Jersey', 'New Mexico', 'New York',\n",
              "       'North Carolina', 'North Dakota', 'Northern Mariana Islands',\n",
              "       'Ohio', 'Oklahoma', 'Oregon', 'Pennsylvania', 'Puerto Rico',\n",
              "       'Rhode Island', 'South Carolina', 'South Dakota', 'Tennessee',\n",
              "       'Texas', 'Utah', 'Vermont', 'Virgin Islands', 'Virginia',\n",
              "       'Washington', 'West Virginia', 'Wisconsin', 'Wyoming'],\n",
              "      dtype=object)"
            ]
          },
          "metadata": {
            "tags": []
          },
          "execution_count": 35
        }
      ]
    },
    {
      "cell_type": "code",
      "metadata": {
        "colab": {
          "base_uri": "https://localhost:8080/",
          "height": 424
        },
        "id": "MwdqYjUrEalj",
        "outputId": "ec478a5c-f717-4d83-900d-80201289d3e1"
      },
      "source": [
        "cali_data = data[data['state'] == 'California'].reset_index(drop=True)\r\n",
        "cali_data"
      ],
      "execution_count": 62,
      "outputs": [
        {
          "output_type": "execute_result",
          "data": {
            "text/html": [
              "<div>\n",
              "<style scoped>\n",
              "    .dataframe tbody tr th:only-of-type {\n",
              "        vertical-align: middle;\n",
              "    }\n",
              "\n",
              "    .dataframe tbody tr th {\n",
              "        vertical-align: top;\n",
              "    }\n",
              "\n",
              "    .dataframe thead th {\n",
              "        text-align: right;\n",
              "    }\n",
              "</style>\n",
              "<table border=\"1\" class=\"dataframe\">\n",
              "  <thead>\n",
              "    <tr style=\"text-align: right;\">\n",
              "      <th></th>\n",
              "      <th>date</th>\n",
              "      <th>county</th>\n",
              "      <th>state</th>\n",
              "      <th>fips</th>\n",
              "      <th>cases</th>\n",
              "      <th>deaths</th>\n",
              "      <th>month</th>\n",
              "      <th>month of year</th>\n",
              "      <th>day</th>\n",
              "      <th>day of month</th>\n",
              "      <th>year</th>\n",
              "    </tr>\n",
              "  </thead>\n",
              "  <tbody>\n",
              "    <tr>\n",
              "      <th>0</th>\n",
              "      <td>2020-01-25</td>\n",
              "      <td>Orange</td>\n",
              "      <td>California</td>\n",
              "      <td>6059.0</td>\n",
              "      <td>1</td>\n",
              "      <td>0.0</td>\n",
              "      <td>January</td>\n",
              "      <td>1</td>\n",
              "      <td>Saturday</td>\n",
              "      <td>25</td>\n",
              "      <td>2020</td>\n",
              "    </tr>\n",
              "    <tr>\n",
              "      <th>1</th>\n",
              "      <td>2020-01-26</td>\n",
              "      <td>Los Angeles</td>\n",
              "      <td>California</td>\n",
              "      <td>6037.0</td>\n",
              "      <td>1</td>\n",
              "      <td>0.0</td>\n",
              "      <td>January</td>\n",
              "      <td>1</td>\n",
              "      <td>Sunday</td>\n",
              "      <td>26</td>\n",
              "      <td>2020</td>\n",
              "    </tr>\n",
              "    <tr>\n",
              "      <th>2</th>\n",
              "      <td>2020-01-26</td>\n",
              "      <td>Orange</td>\n",
              "      <td>California</td>\n",
              "      <td>6059.0</td>\n",
              "      <td>1</td>\n",
              "      <td>0.0</td>\n",
              "      <td>January</td>\n",
              "      <td>1</td>\n",
              "      <td>Sunday</td>\n",
              "      <td>26</td>\n",
              "      <td>2020</td>\n",
              "    </tr>\n",
              "    <tr>\n",
              "      <th>3</th>\n",
              "      <td>2020-01-27</td>\n",
              "      <td>Los Angeles</td>\n",
              "      <td>California</td>\n",
              "      <td>6037.0</td>\n",
              "      <td>1</td>\n",
              "      <td>0.0</td>\n",
              "      <td>January</td>\n",
              "      <td>1</td>\n",
              "      <td>Monday</td>\n",
              "      <td>27</td>\n",
              "      <td>2020</td>\n",
              "    </tr>\n",
              "    <tr>\n",
              "      <th>4</th>\n",
              "      <td>2020-01-27</td>\n",
              "      <td>Orange</td>\n",
              "      <td>California</td>\n",
              "      <td>6059.0</td>\n",
              "      <td>1</td>\n",
              "      <td>0.0</td>\n",
              "      <td>January</td>\n",
              "      <td>1</td>\n",
              "      <td>Monday</td>\n",
              "      <td>27</td>\n",
              "      <td>2020</td>\n",
              "    </tr>\n",
              "    <tr>\n",
              "      <th>...</th>\n",
              "      <td>...</td>\n",
              "      <td>...</td>\n",
              "      <td>...</td>\n",
              "      <td>...</td>\n",
              "      <td>...</td>\n",
              "      <td>...</td>\n",
              "      <td>...</td>\n",
              "      <td>...</td>\n",
              "      <td>...</td>\n",
              "      <td>...</td>\n",
              "      <td>...</td>\n",
              "    </tr>\n",
              "    <tr>\n",
              "      <th>17782</th>\n",
              "      <td>2021-01-17</td>\n",
              "      <td>Tulare</td>\n",
              "      <td>California</td>\n",
              "      <td>6107.0</td>\n",
              "      <td>40655</td>\n",
              "      <td>501.0</td>\n",
              "      <td>January</td>\n",
              "      <td>1</td>\n",
              "      <td>Sunday</td>\n",
              "      <td>17</td>\n",
              "      <td>2021</td>\n",
              "    </tr>\n",
              "    <tr>\n",
              "      <th>17783</th>\n",
              "      <td>2021-01-17</td>\n",
              "      <td>Tuolumne</td>\n",
              "      <td>California</td>\n",
              "      <td>6109.0</td>\n",
              "      <td>3304</td>\n",
              "      <td>38.0</td>\n",
              "      <td>January</td>\n",
              "      <td>1</td>\n",
              "      <td>Sunday</td>\n",
              "      <td>17</td>\n",
              "      <td>2021</td>\n",
              "    </tr>\n",
              "    <tr>\n",
              "      <th>17784</th>\n",
              "      <td>2021-01-17</td>\n",
              "      <td>Ventura</td>\n",
              "      <td>California</td>\n",
              "      <td>6111.0</td>\n",
              "      <td>60368</td>\n",
              "      <td>412.0</td>\n",
              "      <td>January</td>\n",
              "      <td>1</td>\n",
              "      <td>Sunday</td>\n",
              "      <td>17</td>\n",
              "      <td>2021</td>\n",
              "    </tr>\n",
              "    <tr>\n",
              "      <th>17785</th>\n",
              "      <td>2021-01-17</td>\n",
              "      <td>Yolo</td>\n",
              "      <td>California</td>\n",
              "      <td>6113.0</td>\n",
              "      <td>10406</td>\n",
              "      <td>131.0</td>\n",
              "      <td>January</td>\n",
              "      <td>1</td>\n",
              "      <td>Sunday</td>\n",
              "      <td>17</td>\n",
              "      <td>2021</td>\n",
              "    </tr>\n",
              "    <tr>\n",
              "      <th>17786</th>\n",
              "      <td>2021-01-17</td>\n",
              "      <td>Yuba</td>\n",
              "      <td>California</td>\n",
              "      <td>6115.0</td>\n",
              "      <td>4818</td>\n",
              "      <td>27.0</td>\n",
              "      <td>January</td>\n",
              "      <td>1</td>\n",
              "      <td>Sunday</td>\n",
              "      <td>17</td>\n",
              "      <td>2021</td>\n",
              "    </tr>\n",
              "  </tbody>\n",
              "</table>\n",
              "<p>17787 rows × 11 columns</p>\n",
              "</div>"
            ],
            "text/plain": [
              "            date       county       state  ...       day  day of month  year\n",
              "0     2020-01-25       Orange  California  ...  Saturday            25  2020\n",
              "1     2020-01-26  Los Angeles  California  ...    Sunday            26  2020\n",
              "2     2020-01-26       Orange  California  ...    Sunday            26  2020\n",
              "3     2020-01-27  Los Angeles  California  ...    Monday            27  2020\n",
              "4     2020-01-27       Orange  California  ...    Monday            27  2020\n",
              "...          ...          ...         ...  ...       ...           ...   ...\n",
              "17782 2021-01-17       Tulare  California  ...    Sunday            17  2021\n",
              "17783 2021-01-17     Tuolumne  California  ...    Sunday            17  2021\n",
              "17784 2021-01-17      Ventura  California  ...    Sunday            17  2021\n",
              "17785 2021-01-17         Yolo  California  ...    Sunday            17  2021\n",
              "17786 2021-01-17         Yuba  California  ...    Sunday            17  2021\n",
              "\n",
              "[17787 rows x 11 columns]"
            ]
          },
          "metadata": {
            "tags": []
          },
          "execution_count": 62
        }
      ]
    },
    {
      "cell_type": "code",
      "metadata": {
        "colab": {
          "base_uri": "https://localhost:8080/",
          "height": 368
        },
        "id": "8_Cy1ZfVKPfD",
        "outputId": "4a9e78bf-4625-4387-dc6d-074e2d1d5589"
      },
      "source": [
        "plt.figure(figsize=(10,5))\r\n",
        "sns.lineplot(data=cali_data['cases']).set(title='COVID-19 Cases Over Last 30 Days - NYC', xlabel='day')"
      ],
      "execution_count": 54,
      "outputs": [
        {
          "output_type": "execute_result",
          "data": {
            "text/plain": [
              "[Text(0.5, 0, 'day'), Text(0.5, 1.0, 'COVID-19 Cases Over Last 30 Days - NYC')]"
            ]
          },
          "metadata": {
            "tags": []
          },
          "execution_count": 54
        },
        {
          "output_type": "display_data",
          "data": {
            "image/png": "[encoded data removed]",
            "text/plain": [
              "<Figure size 720x360 with 1 Axes>"
            ]
          },
          "metadata": {
            "tags": []
          }
        }
      ]
    },
    {
      "cell_type": "code",
      "metadata": {
        "colab": {
          "base_uri": "https://localhost:8080/",
          "height": 318
        },
        "id": "3KNFn_bHGLuU",
        "outputId": "6e41e1e1-2519-4598-8cd2-7cfd632b0df7"
      },
      "source": [
        "'''for state in data.state.unique():\r\n",
        "  state_data = data[data['state'] == state].reset_index()\r\n",
        "  sns.lineplot(data=state_data['cases'], palette='crest')\r\n",
        "\r\n",
        "plt.title('COVID-19 Cases vs. Day')\r\n",
        "plt.legend(loc='center left', bbox_to_anchor=(1.25, 0.5), ncol=1)'''"
      ],
      "execution_count": 49,
      "outputs": [
        {
          "output_type": "stream",
          "text": [
            "No handles with labels found to put in legend.\n"
          ],
          "name": "stderr"
        },
        {
          "output_type": "execute_result",
          "data": {
            "text/plain": [
              "<matplotlib.legend.Legend at 0x7f13a85bfc18>"
            ]
          },
          "metadata": {
            "tags": []
          },
          "execution_count": 49
        },
        {
          "output_type": "display_data",
          "data": {
            "image/png": "[encoded data removed]",
            "text/plain": [
              "<Figure size 432x288 with 1 Axes>"
            ]
          },
          "metadata": {
            "tags": []
          }
        }
      ]
    },
    {
      "cell_type": "code",
      "metadata": {
        "id": "9GDSopMpGMhU"
      },
      "source": [
        ""
      ],
      "execution_count": null,
      "outputs": []
    }
  ]
}